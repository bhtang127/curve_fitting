{
 "cells": [
  {
   "cell_type": "code",
   "execution_count": 1,
   "metadata": {},
   "outputs": [],
   "source": [
    "import os\n",
    "import re\n",
    "import nibabel as nib\n",
    "import matplotlib.pyplot as plt\n",
    "import ipyvolume as ipv\n",
    "import numpy as np\n",
    "from para_deconv import *\n",
    "\n",
    "MAX_POINTS = 20941\n",
    "data = np.load(\"data/data.npz\")\n",
    "\n",
    "%matplotlib inline"
   ]
  },
  {
   "cell_type": "code",
   "execution_count": 2,
   "metadata": {
    "scrolled": false
   },
   "outputs": [
    {
     "name": "stderr",
     "output_type": "stream",
     "text": [
      "/usr/local/lib/python3.6/dist-packages/ipyvolume/serialize.py:81: RuntimeWarning: invalid value encountered in true_divide\n",
      "  gradient = gradient / np.sqrt(gradient[0]**2 + gradient[1]**2 + gradient[2]**2)\n"
     ]
    },
    {
     "data": {
      "application/vnd.jupyter.widget-view+json": {
       "model_id": "8df8e3386ad04fc0905b04eb745e2bd0",
       "version_major": 2,
       "version_minor": 0
      },
      "text/plain": [
       "VBox(children=(VBox(children=(HBox(children=(Label(value='levels:'), FloatSlider(value=1.0, max=1.0, step=0.00…"
      ]
     },
     "metadata": {},
     "output_type": "display_data"
    }
   ],
   "source": [
    "ind = np.random.randint(0,data[\"img\"].shape[0],1)[0]\n",
    "ind = 3\n",
    "show = data[\"img\"][ind,:,:,:,0]\n",
    "ipv.figure()\n",
    "ipv.volshow(show, lighting=True, level=[1,0.21,0.9], opacity=[0.01,0.1,0.2])\n",
    "ipv.show()"
   ]
  },
  {
   "cell_type": "code",
   "execution_count": 3,
   "metadata": {
    "scrolled": true
   },
   "outputs": [
    {
     "name": "stdout",
     "output_type": "stream",
     "text": [
      "Model: \"curve\"\n",
      "_________________________________________________________________\n",
      "Layer (type)                 Output Shape              Param #   \n",
      "=================================================================\n",
      "conv3d (Conv3D)              multiple                  4032      \n",
      "_________________________________________________________________\n",
      "batch_normalization_v2 (Batc multiple                  128       \n",
      "_________________________________________________________________\n",
      "average_pooling3d (AveragePo multiple                  0         \n",
      "_________________________________________________________________\n",
      "global_average_pooling3d (Gl multiple                  0         \n",
      "_________________________________________________________________\n",
      "max_pooling3d (MaxPooling3D) multiple                  0         \n",
      "_________________________________________________________________\n",
      "dropout (Dropout)            multiple                  0         \n",
      "_________________________________________________________________\n",
      "conv3d_1 (Conv3D)            multiple                  256064    \n",
      "_________________________________________________________________\n",
      "batch_normalization_v2_1 (Ba multiple                  256       \n",
      "_________________________________________________________________\n",
      "conv3d_2 (Conv3D)            multiple                  1024128   \n",
      "_________________________________________________________________\n",
      "batch_normalization_v2_2 (Ba multiple                  512       \n",
      "_________________________________________________________________\n",
      "conv3d_3 (Conv3D)            multiple                  4096256   \n",
      "_________________________________________________________________\n",
      "batch_normalization_v2_3 (Ba multiple                  1024      \n",
      "_________________________________________________________________\n",
      "dense (Dense)                multiple                  263168    \n",
      "_________________________________________________________________\n",
      "dense_1 (Dense)              multiple                  1049600   \n",
      "_________________________________________________________________\n",
      "dense_2 (Dense)              multiple                  30750     \n",
      "_________________________________________________________________\n",
      "dense_3 (Dense)              multiple                  30750     \n",
      "=================================================================\n",
      "Total params: 6,756,668\n",
      "Trainable params: 6,755,708\n",
      "Non-trainable params: 960\n",
      "_________________________________________________________________\n"
     ]
    }
   ],
   "source": [
    "keras.backend.clear_session()\n",
    "try:\n",
    "    del model\n",
    "except:pass\n",
    "model = curve(num_points=10, learning_rate=1e-3,\n",
    "              clip_low=1e-5,clip_high=1,\n",
    "              lambs=[2e-4,1e-4,5e-4],drop_rate=0.5,\n",
    "              reg_lam = 1e-4,num_filter=32,\n",
    "              section=9, kernel_type = 2\n",
    "              )\n",
    "model.summary()\n",
    "\n",
    "# ind = 10\n",
    "# batch_img = [data[\"img\"][ind,:,:,:,:]]\n",
    "# batch_p = [data[\"points\"][ind,:,:]]\n",
    "# batch_w = [data[\"weights\"][ind,:]]"
   ]
  },
  {
   "cell_type": "code",
   "execution_count": 4,
   "metadata": {
    "scrolled": false
   },
   "outputs": [
    {
     "name": "stderr",
     "output_type": "stream",
     "text": [
      "WARNING: Logging before flag parsing goes to stderr.\n",
      "W0313 13:47:00.084983 140132526249792 deprecation.py:323] From /usr/local/lib/python3.6/dist-packages/tensorflow/python/ops/array_grad.py:425: to_int32 (from tensorflow.python.ops.math_ops) is deprecated and will be removed in a future version.\n",
      "Instructions for updating:\n",
      "Use `tf.cast` instead.\n"
     ]
    },
    {
     "name": "stdout",
     "output_type": "stream",
     "text": [
      "loss:  0.00077262084 sigma^2: [0.00844148] suggest sigma^2:  [0.00844148]\n",
      "loss:  0.00017257141 sigma^2: [0.00103151] suggest sigma^2:  [0.00103151]\n",
      "loss:  0.00017019144 sigma^2: [0.00100656] suggest sigma^2:  [0.00100656]\n",
      "loss:  0.00017024955 sigma^2: [0.00099588] suggest sigma^2:  [0.00099588]\n",
      "loss:  0.00016952245 sigma^2: [0.00099831] suggest sigma^2:  [0.00099831]\n"
     ]
    },
    {
     "data": {
      "application/vnd.jupyter.widget-view+json": {
       "model_id": "43e049efe6f449a9bcda597a6a1006ee",
       "version_major": 2,
       "version_minor": 0
      },
      "text/plain": [
       "VBox(children=(VBox(children=(HBox(children=(Label(value='levels:'), FloatSlider(value=1.0, max=1.0, step=0.00…"
      ]
     },
     "metadata": {},
     "output_type": "display_data"
    }
   ],
   "source": [
    "keras.backend.clear_session()\n",
    "try:\n",
    "    del model\n",
    "except:pass\n",
    "model = curve(num_points=10, learning_rate=1e-3,\n",
    "              clip_low=1e-5,clip_high=1,\n",
    "              lambs=[1e-4,1e-5,5e-4],drop_rate=0.5,\n",
    "              reg_lam = 1e-4,num_filter=32,\n",
    "              section=9, kernel_type = 2\n",
    "              )\n",
    "\n",
    "ind = 12\n",
    "batch_img = np.array([data[\"img\"][ind,:,:,:,:]])\n",
    "batch_p = np.array([data[\"points\"][ind,:,:]])\n",
    "batch_w = np.array([data[\"weights\"][ind,:]])\n",
    "    \n",
    "for i in range(200):\n",
    "    echo = (i%40 == 0)\n",
    "    model.train_on_batch(batch_img,batch_p,batch_w,verbose=echo)\n",
    "\n",
    "xp,yp,zp = model.predict([data[\"img\"][ind,:,:,:]])\n",
    "show = data[\"img\"][ind,:,:,:,0]\n",
    "ipv.figure()\n",
    "ipv.volshow(show, lighting=True, level=[1,0.21,0.9], opacity=[0.01,0.1,0.2])\n",
    "ipv.scatter(127*zp[0,:],127*yp[0,:],127*xp[0,:])\n",
    "ipv.show()"
   ]
  },
  {
   "cell_type": "code",
   "execution_count": 5,
   "metadata": {},
   "outputs": [
    {
     "name": "stdout",
     "output_type": "stream",
     "text": [
      "loss:  0.0027556226 sigma^2: [0.01506276] suggest sigma^2:  [0.01506276]\n",
      "loss:  0.0003305049 sigma^2: [0.00114337] suggest sigma^2:  [0.00114337]\n",
      "loss:  0.0003226095 sigma^2: [0.0011059] suggest sigma^2:  [0.0011059]\n",
      "loss:  0.00032170804 sigma^2: [0.00109755] suggest sigma^2:  [0.00109755]\n",
      "loss:  0.00032105623 sigma^2: [0.00109625] suggest sigma^2:  [0.00109625]\n"
     ]
    },
    {
     "data": {
      "application/vnd.jupyter.widget-view+json": {
       "model_id": "cebf3eb8aab0469594db694ebbf253bf",
       "version_major": 2,
       "version_minor": 0
      },
      "text/plain": [
       "VBox(children=(VBox(children=(HBox(children=(Label(value='levels:'), FloatSlider(value=1.0, max=1.0, step=0.00…"
      ]
     },
     "metadata": {},
     "output_type": "display_data"
    }
   ],
   "source": [
    "keras.backend.clear_session()\n",
    "try:\n",
    "    del model\n",
    "except:pass\n",
    "model = curve(num_points=10, learning_rate=1e-3,\n",
    "              clip_low=1e-5,clip_high=1,\n",
    "              lambs=[1e-4,1e-5,5e-4],drop_rate=0.5,\n",
    "              reg_lam = 1e-4,num_filter=32,\n",
    "              section=9, kernel_type = 2\n",
    "              )\n",
    "\n",
    "ind = 3\n",
    "batch_img = np.array([data[\"img\"][ind,:,:,:,:]])\n",
    "batch_p = np.array([data[\"points\"][ind,:,:]])\n",
    "batch_w = np.array([data[\"weights\"][ind,:]])\n",
    "    \n",
    "for i in range(200):\n",
    "    echo = (i%40 == 0)\n",
    "    model.train_on_batch(batch_img,batch_p,batch_w,verbose=echo)\n",
    "\n",
    "xp,yp,zp = model.predict([data[\"img\"][ind,:,:,:]])\n",
    "show = data[\"img\"][ind,:,:,:,0]\n",
    "ipv.figure()\n",
    "ipv.volshow(show, lighting=True, level=[1,0.21,0.9], opacity=[0.01,0.1,0.2])\n",
    "ipv.scatter(127*zp[0,:],127*yp[0,:],127*xp[0,:])\n",
    "ipv.show()"
   ]
  },
  {
   "cell_type": "code",
   "execution_count": 6,
   "metadata": {
    "scrolled": true
   },
   "outputs": [
    {
     "name": "stdout",
     "output_type": "stream",
     "text": [
      "loss:  0.00243749 sigma^2: [0.01791034] suggest sigma^2:  [0.01791034]\n",
      "loss:  0.00019581329 sigma^2: [0.00102392] suggest sigma^2:  [0.00102392]\n",
      "loss:  0.00019022655 sigma^2: [0.00098898] suggest sigma^2:  [0.00098898]\n",
      "loss:  0.00018619355 sigma^2: [0.00094035] suggest sigma^2:  [0.00094035]\n",
      "loss:  0.00018569175 sigma^2: [0.00093796] suggest sigma^2:  [0.00093796]\n"
     ]
    },
    {
     "data": {
      "application/vnd.jupyter.widget-view+json": {
       "model_id": "7706f62d78d248bfb6d5c2fc6a32e673",
       "version_major": 2,
       "version_minor": 0
      },
      "text/plain": [
       "VBox(children=(VBox(children=(HBox(children=(Label(value='levels:'), FloatSlider(value=1.0, max=1.0, step=0.00…"
      ]
     },
     "metadata": {},
     "output_type": "display_data"
    }
   ],
   "source": [
    "keras.backend.clear_session()\n",
    "try:\n",
    "    del model\n",
    "except:pass\n",
    "model = curve(num_points=10, learning_rate=1e-3,\n",
    "              clip_low=1e-5,clip_high=1,\n",
    "              lambs=[1e-4,1e-5,5e-4],drop_rate=0.5,\n",
    "              reg_lam = 1e-4,num_filter=32,\n",
    "              section=9, kernel_type = 2\n",
    "              )\n",
    "\n",
    "ind = 25\n",
    "batch_img = np.array([data[\"img\"][ind,:,:,:,:]])\n",
    "batch_p = np.array([data[\"points\"][ind,:,:]])\n",
    "batch_w = np.array([data[\"weights\"][ind,:]])\n",
    "    \n",
    "for i in range(200):\n",
    "    echo = (i%40 == 0)\n",
    "    model.train_on_batch(batch_img,batch_p,batch_w,verbose=echo)\n",
    "\n",
    "xp,yp,zp = model.predict([data[\"img\"][ind,:,:,:]])\n",
    "show = data[\"img\"][ind,:,:,:,0]\n",
    "ipv.figure()\n",
    "ipv.volshow(show, lighting=True, level=[1,0.21,0.9], opacity=[0.01,0.1,0.2])\n",
    "ipv.scatter(127*zp[0,:],127*yp[0,:],127*xp[0,:])\n",
    "ipv.show()"
   ]
  },
  {
   "cell_type": "code",
   "execution_count": null,
   "metadata": {},
   "outputs": [],
   "source": []
  }
 ],
 "metadata": {
  "kernelspec": {
   "display_name": "Python 3",
   "language": "python",
   "name": "python3"
  },
  "language_info": {
   "codemirror_mode": {
    "name": "ipython",
    "version": 3
   },
   "file_extension": ".py",
   "mimetype": "text/x-python",
   "name": "python",
   "nbconvert_exporter": "python",
   "pygments_lexer": "ipython3",
   "version": "3.6.7"
  }
 },
 "nbformat": 4,
 "nbformat_minor": 2
}
