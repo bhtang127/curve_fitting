{
 "cells": [
  {
   "cell_type": "code",
   "execution_count": 82,
   "metadata": {},
   "outputs": [],
   "source": [
    "import os\n",
    "import re\n",
    "import nibabel as nib\n",
    "import matplotlib.pyplot as plt\n",
    "import ipyvolume as ipv\n",
    "import numpy as np\n",
    "import sklearn.manifold as skm\n",
    "import time\n",
    "from patsy import dmatrix\n",
    "import statsmodels.api as sm\n",
    "\n",
    "MAX_POINTS = 20941\n",
    "data = np.load(\"data/data.npz\")\n",
    "\n",
    "%matplotlib inline"
   ]
  },
  {
   "cell_type": "code",
   "execution_count": 91,
   "metadata": {},
   "outputs": [],
   "source": [
    "def spline(x, y, df=None,degree=3):\n",
    "    D = dmatrix(\"bs(x, df=df, degree=degree, include_intercept=True)\",\n",
    "                {\"x\": x}, return_type='dataframe')\n",
    "    fit = sm.GLM(y, D).fit()\n",
    "    ypred = fit.predict(D)\n",
    "    return ypred"
   ]
  },
  {
   "cell_type": "code",
   "execution_count": 159,
   "metadata": {
    "scrolled": false
   },
   "outputs": [
    {
     "name": "stdout",
     "output_type": "stream",
     "text": [
      "(5763, 3)\n"
     ]
    },
    {
     "data": {
      "application/vnd.jupyter.widget-view+json": {
       "model_id": "020b8603e4fd4ccdb97f4e4a1828841f",
       "version_major": 2,
       "version_minor": 0
      },
      "text/plain": [
       "VBox(children=(VBox(children=(HBox(children=(Label(value='levels:'), FloatSlider(value=1.0, max=1.0, step=0.00…"
      ]
     },
     "metadata": {},
     "output_type": "display_data"
    }
   ],
   "source": [
    "ind = np.random.randint(0,data[\"img\"].shape[0],1)[0]\n",
    "# ind=34\n",
    "# ind=41\n",
    "show = data[\"img\"][ind,:,:,:,0]\n",
    "ps = data[\"points\"][ind,:,:]\n",
    "ps = ps[data[\"weights\"][ind,:]>0.1,:]\n",
    "print(ps.shape)\n",
    "ipv.figure()\n",
    "ipv.volshow(show, lighting=True, level=[1,0.21,0.9], opacity=[0.01,0.1,0.2])\n",
    "ipv.scatter(ps[:,2],ps[:,1],ps[:,0])\n",
    "ipv.show()"
   ]
  },
  {
   "cell_type": "code",
   "execution_count": 154,
   "metadata": {},
   "outputs": [
    {
     "name": "stdout",
     "output_type": "stream",
     "text": [
      "2.569362163543701\n"
     ]
    }
   ],
   "source": [
    "start = time.time()\n",
    "\n",
    "isomap = skm.Isomap(n_components=1)\n",
    "ps_embed = isomap.fit_transform(ps)\n",
    "\n",
    "end = time.time()\n",
    "\n",
    "print(end - start)"
   ]
  },
  {
   "cell_type": "code",
   "execution_count": 155,
   "metadata": {
    "scrolled": false
   },
   "outputs": [
    {
     "name": "stderr",
     "output_type": "stream",
     "text": [
      "/usr/local/lib/python3.6/dist-packages/ipyvolume/serialize.py:81: RuntimeWarning: invalid value encountered in true_divide\n",
      "  gradient = gradient / np.sqrt(gradient[0]**2 + gradient[1]**2 + gradient[2]**2)\n"
     ]
    },
    {
     "data": {
      "application/vnd.jupyter.widget-view+json": {
       "model_id": "4e78b025cc4e48acbe7155b7730ee089",
       "version_major": 2,
       "version_minor": 0
      },
      "text/plain": [
       "VBox(children=(VBox(children=(HBox(children=(Label(value='levels:'), FloatSlider(value=1.0, max=1.0, step=0.00…"
      ]
     },
     "metadata": {},
     "output_type": "display_data"
    }
   ],
   "source": [
    "pso = ps[np.argsort(ps_embed[:,0]),:]\n",
    "ts = np.linspace(0,1,num=pso.shape[0])\n",
    "xs = spline(ts,pso[:,0], df=7)\n",
    "ys = spline(ts,pso[:,1], df=7)\n",
    "zs = spline(ts,pso[:,2], df=7)\n",
    "\n",
    "ipv.figure()\n",
    "ipv.volshow(show, lighting=True, level=[1,0.21,0.9], opacity=[0.01,0.1,0.2])\n",
    "ipv.scatter(zs,ys,xs)\n",
    "# K=13000\n",
    "# ipv.scatter(pso[:K,2],pso[:K,1],pso[:K,0])\n",
    "ipv.show()"
   ]
  }
 ],
 "metadata": {
  "kernelspec": {
   "display_name": "Python 3",
   "language": "python",
   "name": "python3"
  },
  "language_info": {
   "codemirror_mode": {
    "name": "ipython",
    "version": 3
   },
   "file_extension": ".py",
   "mimetype": "text/x-python",
   "name": "python",
   "nbconvert_exporter": "python",
   "pygments_lexer": "ipython3",
   "version": "3.6.7"
  }
 },
 "nbformat": 4,
 "nbformat_minor": 2
}
