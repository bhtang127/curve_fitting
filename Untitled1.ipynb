{
 "cells": [
  {
   "cell_type": "code",
   "execution_count": 3,
   "metadata": {
    "collapsed": true
   },
   "outputs": [],
   "source": [
    "import numpy as np\n",
    "import tensorflow as tf\n",
    "import matplotlib.pyplot as plt\n",
    "import math\n",
    "%matplotlib inline"
   ]
  },
  {
   "cell_type": "code",
   "execution_count": 4,
   "metadata": {
    "collapsed": false
   },
   "outputs": [
    {
     "name": "stdout",
     "output_type": "stream",
     "text": [
      "Train data shape:  (55000, 28, 28)\n",
      "Train labels shape:  (55000,) int32\n",
      "Validation data shape:  (5000, 28, 28)\n",
      "Validation labels shape:  (5000,)\n",
      "Test data shape:  (10000, 28, 28)\n",
      "Test labels shape:  (10000,)\n"
     ]
    }
   ],
   "source": [
    "def load_mnist(num_training=55000, num_validation=5000, num_test=10000):\n",
    "\n",
    "    # Load the raw mnist dataset and use appropriate data types and shapes\n",
    "    mnist = tf.keras.datasets.mnist.load_data()\n",
    "    (X_train, y_train), (X_test, y_test) = mnist\n",
    "    X_train = np.asarray(X_train, dtype=np.float32)\n",
    "    y_train = np.asarray(y_train, dtype=np.int32).flatten()\n",
    "    X_test = np.asarray(X_test, dtype=np.float32)\n",
    "    y_test = np.asarray(y_test, dtype=np.int32).flatten()\n",
    "\n",
    "    # Subsample the data\n",
    "    mask = range(num_training, num_training + num_validation)\n",
    "    X_val = X_train[mask]\n",
    "    y_val = y_train[mask]\n",
    "    mask = range(num_training)\n",
    "    X_train = X_train[mask]\n",
    "    y_train = y_train[mask]\n",
    "    mask = range(num_test)\n",
    "    X_test = X_test[mask]\n",
    "    y_test = y_test[mask]\n",
    "    \n",
    "    # Normalize the data: be in 0-1\n",
    "    X_train = X_train / 255\n",
    "    X_val = X_val / 255\n",
    "    X_test = X_test / 255\n",
    "\n",
    "    return X_train, y_train, X_val, y_val, X_test, y_test\n",
    "\n",
    "\n",
    "# Invoke the above function to get our data.\n",
    "NHW = (0, 1, 2)\n",
    "X_train, y_train, X_val, y_val, X_test, y_test = load_mnist()\n",
    "print('Train data shape: ', X_train.shape)\n",
    "print('Train labels shape: ', y_train.shape, y_train.dtype)\n",
    "print('Validation data shape: ', X_val.shape)\n",
    "print('Validation labels shape: ', y_val.shape)\n",
    "print('Test data shape: ', X_test.shape)\n",
    "print('Test labels shape: ', y_test.shape)"
   ]
  },
  {
   "cell_type": "code",
   "execution_count": 5,
   "metadata": {
    "collapsed": true
   },
   "outputs": [],
   "source": [
    "def show_img(fig, image, kimg, xpo, ypo):\n",
    "    plt.figure(fig)\n",
    "    \n",
    "    plt.subplot(1,3,1)\n",
    "    plt.imshow(image[0,:,:], cmap='gray')\n",
    "    \n",
    "    plt.subplot(1,3,2)\n",
    "    plt.imshow(kimg[0,:,:], cmap='gray')\n",
    "    \n",
    "    plt.subplot(1,3,3)\n",
    "    xi = xpo[0,:]; yi = ypo[0,:]; t = len(xi)\n",
    "    loc_x = xpo[0,::20]; loc_y = ypo[0,::20]\n",
    "    n = loc_x.shape[0]\n",
    "    s = np.linspace(25, 5, num=n)\n",
    "    plt.plot(yi, -xi)\n",
    "    plt.scatter(loc_y, -loc_x, s=s)\n",
    "    plt.xlim(0,1); plt.ylim(-1,0)\n",
    "    return"
   ]
  },
  {
   "cell_type": "code",
   "execution_count": 6,
   "metadata": {
    "collapsed": false
   },
   "outputs": [
    {
     "data": {
      "image/png": "[encoded data removed]",
      "text/plain": [
       "<matplotlib.figure.Figure at 0x7feb1998a320>"
      ]
     },
     "metadata": {},
     "output_type": "display_data"
    }
   ],
   "source": [
    "plt.figure(1)\n",
    "plt.subplot(131)\n",
    "plt.imshow(X_train[1,:,:], cmap='gray')\n",
    "plt.subplot(132)\n",
    "plt.imshow(X_train[5,:,:], cmap='gray')\n",
    "plt.subplot(133)\n",
    "plt.imshow(X_train[7,:,:], cmap='gray')\n",
    "plt.show()"
   ]
  },
  {
   "cell_type": "code",
   "execution_count": 7,
   "metadata": {
    "collapsed": true
   },
   "outputs": [],
   "source": [
    "def sigma_net(inputs, num_filter=32):\n",
    "    \"\"\"Coding Net for Image to get interior points and moments\"\"\"\n",
    "    regularizer = tf.contrib.layers.l2_regularizer(scale=0.001)\n",
    "    # Input Layer\n",
    "    input_layer = tf.reshape(inputs, [-1,28,28,1])\n",
    "    # First Convolution layer\n",
    "    conv1 = tf.layers.conv2d(\n",
    "        inputs=input_layer,\n",
    "        filters=num_filter,\n",
    "        kernel_size=[5, 5],\n",
    "        padding=\"same\",\n",
    "        kernel_regularizer=regularizer,\n",
    "        activation=tf.nn.relu6)\n",
    "    batch1 = tf.layers.batch_normalization(conv1,axis=1)\n",
    "    pool1 = tf.layers.max_pooling2d(inputs=batch1, pool_size=[2, 2], strides=2)\n",
    "    dropout1 = tf.layers.dropout(inputs=pool1, rate=0.7)\n",
    "    \n",
    "    # Second Convolution layer\n",
    "    conv2 = tf.layers.conv2d(\n",
    "        inputs=dropout1,\n",
    "        filters=num_filter*2,\n",
    "        kernel_size=[5, 5],\n",
    "        padding=\"same\",\n",
    "        kernel_regularizer=regularizer,\n",
    "        activation=tf.nn.relu6)\n",
    "    batch2 = tf.layers.batch_normalization(conv2,axis=1)\n",
    "    pool2 = tf.layers.max_pooling2d(inputs=batch2, pool_size=[2, 2], strides=2)\n",
    "    dropout2 = tf.layers.dropout(inputs=pool2, rate=0.7)\n",
    "    \n",
    "    # Dense layer and outputs\n",
    "    drop2_flat = tf.reshape(pool2, [-1, 7 * 7 * 64])\n",
    "    dense = tf.layers.dense(inputs=drop2_flat, \n",
    "                            units=1024, \n",
    "                            kernel_regularizer=regularizer,\n",
    "                            activation=tf.nn.relu6)\n",
    "    dropout3 = tf.layers.dropout(inputs=dense, rate=0.7)\n",
    "    \n",
    "    sigma = tf.layers.dense(inputs = dropout3, \n",
    "                            units = 1)\n",
    "    sigma = tf.reshape(sigma, (-1,))\n",
    "    \n",
    "    return sigma"
   ]
  },
  {
   "cell_type": "code",
   "execution_count": 26,
   "metadata": {
    "collapsed": false
   },
   "outputs": [],
   "source": [
    "from patsy import bs\n",
    "\n",
    "def get_xy_coeff(df=7):\n",
    "    init = np.random.randn(df,2)\n",
    "    init = np.asarray(init, dtype=np.float32)\n",
    "    x_coeff = tf.get_variable(\"x_coeff\", dtype=tf.float32,\n",
    "                              initializer=tf.constant(init[:,0]))\n",
    "    y_coeff = tf.get_variable(\"y_coeff\", dtype=tf.float32,\n",
    "                              initializer=tf.constant(init[:,1]))\n",
    "    return x_coeff, y_coeff\n",
    "\n",
    "def reconstruction(x_coeff, y_coeff, num_pt=100,df=7,degree=3):\n",
    "    tp = np.linspace(0,1, num = num_pt)\n",
    "    basis = bs(tp, df=df, degree=degree, include_intercept=True).T\n",
    "    basis = tf.constant(basis, dtype=tf.float32)\n",
    "    \n",
    "    x_points = tf.matmul(tf.reshape(x_coeff,[1,-1]), basis) +0.5\n",
    "    y_points = tf.matmul(tf.reshape(y_coeff,[1,-1]), basis) +0.5\n",
    "\n",
    "    return x_points, y_points"
   ]
  },
  {
   "cell_type": "code",
   "execution_count": 9,
   "metadata": {
    "collapsed": true
   },
   "outputs": [],
   "source": [
    "index_tensor = np.zeros([28,28,2])\n",
    "for i in range(28):\n",
    "    for j in range(28):\n",
    "        index_tensor[i,j,:] = [i/27.0, j/27.0]\n",
    "\n",
    "def kernel_image(x_points, y_points, sigma):\n",
    "    locations = tf.constant(index_tensor, dtype=tf.float32)\n",
    "    points = tf.stack([x_points, y_points], axis=2)\n",
    "    dist = tf.einsum(\"iju,ntu->nijt\", locations**2, tf.ones_like(points)) -\\\n",
    "           2 * tf.einsum(\"iju,ntu->nijt\", locations, points) +\\\n",
    "           tf.einsum(\"iju,ntu->nijt\", tf.ones_like(locations), points**2)\n",
    "    kernel = tf.exp(-0.5*tf.einsum(\"nijt,n->nijt\", dist, sigma**(-2)))\n",
    "    images = tf.reduce_sum(kernel, axis=3)\n",
    "    images = tf.tanh(images)\n",
    "    images = tf.cast(images, tf.float64)\n",
    "    \n",
    "    return images\n",
    "\n",
    "def loss(kernel_img, images):\n",
    "    images = tf.cast(images, tf.float64)\n",
    "    return tf.reduce_mean( (kernel_img - images)**2 )"
   ]
  },
  {
   "cell_type": "code",
   "execution_count": 35,
   "metadata": {
    "collapsed": false
   },
   "outputs": [],
   "source": [
    "tf.reset_default_graph()\n",
    "\n",
    "X = tf.placeholder(tf.float32, [None, 28, 28])\n",
    "Images = tf.placeholder(tf.float32, [None, 28, 28])\n",
    "learning_rate = tf.placeholder(tf.float32, shape=[])\n",
    "\n",
    "df = 7; totalp = 100; degree = 3\n",
    "\n",
    "# sigma = sigma_net(X)\n",
    "sigma = tf.constant([0.025],dtype=tf.float32)\n",
    "x_coeff, y_coeff = get_xy_coeff(df)\n",
    "x_points, y_points = reconstruction(x_coeff, y_coeff, totalp,df,degree)\n",
    "\n",
    "reg = 1; lam_len = 5e-3; lam_sig = 5e-3\n",
    "\n",
    "kernel_imgs = kernel_image(x_points,y_points, sigma)\n",
    "total_loss = loss(kernel_imgs, Images)\n",
    "\n",
    "xdiff = x_points[:,1:totalp] - x_points[:,:(totalp-1)]\n",
    "ydiff = y_points[:,1:totalp] - y_points[:,:(totalp-1)]\n",
    "\n",
    "eps = 1e-8\n",
    "length_penalty = tf.reduce_mean(\n",
    "                    tf.reduce_sum(\n",
    "                        tf.sqrt(\n",
    "                            tf.clip_by_value(xdiff**2 + ydiff**2, eps, 1)\n",
    "                        ),\n",
    "                        axis = 1\n",
    "                    )\n",
    "                 )\n",
    "length_penalty = tf.cast(length_penalty, tf.float64)\n",
    "\n",
    "sigma_penalty = tf.reduce_mean(sigma**2)\n",
    "sigma_penalty = tf.cast(sigma_penalty, tf.float64)\n",
    "\n",
    "total_loss = total_loss + lam_len * length_penalty + lam_sig * sigma_penalty\n",
    "            \n",
    "optimizer = tf.train.AdamOptimizer(learning_rate)\n",
    "train_step = optimizer.minimize(total_loss)"
   ]
  },
  {
   "cell_type": "code",
   "execution_count": 37,
   "metadata": {
    "collapsed": false
   },
   "outputs": [
    {
     "name": "stdout",
     "output_type": "stream",
     "text": [
      "Training\n",
      "Iteration 0: with minibatch training loss = 0.188 length = 5.76\n",
      "[-0.75846815 -0.77011335  1.1565007  -0.80487484  1.1101501   1.7870718\n",
      " -0.859739  ]\n",
      "Sigma2: 0.000625\n"
     ]
    },
    {
     "data": {
      "image/png": "[encoded data removed]",
      "text/plain": [
       "<matplotlib.figure.Figure at 0x7feb01402e48>"
      ]
     },
     "metadata": {},
     "output_type": "display_data"
    },
    {
     "name": "stdout",
     "output_type": "stream",
     "text": [
      "Iteration 2000: with minibatch training loss = 0.118 length = 2.07\n",
      "[ 1.1654719  1.1663233  1.1614252  1.1730137  1.1323917  1.3412625\n",
      " -0.7921993]\n",
      "Sigma2: 0.000625\n"
     ]
    },
    {
     "data": {
      "image/png": "[encoded data removed]",
      "text/plain": [
       "<matplotlib.figure.Figure at 0x7feaf8e7f0f0>"
      ]
     },
     "metadata": {},
     "output_type": "display_data"
    },
    {
     "name": "stdout",
     "output_type": "stream",
     "text": [
      "Iteration 4000: with minibatch training loss = 0.118 length = 2.07\n",
      "[ 1.1626023  1.163479   1.1579403  1.1701821  1.1283389  1.3419967\n",
      " -0.7924731]\n",
      "Sigma2: 0.000625\n"
     ]
    },
    {
     "data": {
      "image/png": "[encoded data removed]",
      "text/plain": [
       "<matplotlib.figure.Figure at 0x7feb080da208>"
      ]
     },
     "metadata": {},
     "output_type": "display_data"
    },
    {
     "name": "stdout",
     "output_type": "stream",
     "text": [
      "Iteration 6000: with minibatch training loss = 0.118 length = 2.07\n",
      "[ 1.162019   1.1638275  1.1579977  1.1698712  1.1282996  1.3419379\n",
      " -0.7923472]\n",
      "Sigma2: 0.000625\n"
     ]
    },
    {
     "data": {
      "image/png": "[encoded data removed]",
      "text/plain": [
       "<matplotlib.figure.Figure at 0x7feb012d94e0>"
      ]
     },
     "metadata": {},
     "output_type": "display_data"
    },
    {
     "name": "stdout",
     "output_type": "stream",
     "text": [
      "Iteration 8000: with minibatch training loss = 0.118 length = 2.07\n",
      "[ 1.162971   1.1641325  1.1590028  1.1700715  1.1280361  1.3417408\n",
      " -0.7921883]\n",
      "Sigma2: 0.000625\n"
     ]
    },
    {
     "data": {
      "image/png": "[encoded data removed]",
      "text/plain": [
       "<matplotlib.figure.Figure at 0x7feaf84a8a58>"
      ]
     },
     "metadata": {},
     "output_type": "display_data"
    },
    {
     "ename": "KeyboardInterrupt",
     "evalue": "",
     "output_type": "error",
     "traceback": [
      "\u001b[1;31m---------------------------------------------------------------------------\u001b[0m",
      "\u001b[1;31mKeyboardInterrupt\u001b[0m                         Traceback (most recent call last)",
      "\u001b[1;32m<ipython-input-37-aa183df0a1f5>\u001b[0m in \u001b[0;36m<module>\u001b[1;34m()\u001b[0m\n\u001b[0;32m     59\u001b[0m     \u001b[0msess\u001b[0m\u001b[1;33m.\u001b[0m\u001b[0mrun\u001b[0m\u001b[1;33m(\u001b[0m\u001b[0mtf\u001b[0m\u001b[1;33m.\u001b[0m\u001b[0mglobal_variables_initializer\u001b[0m\u001b[1;33m(\u001b[0m\u001b[1;33m)\u001b[0m\u001b[1;33m)\u001b[0m\u001b[1;33m\u001b[0m\u001b[0m\n\u001b[0;32m     60\u001b[0m     \u001b[0mprint\u001b[0m\u001b[1;33m(\u001b[0m\u001b[1;34m'Training'\u001b[0m\u001b[1;33m)\u001b[0m\u001b[1;33m\u001b[0m\u001b[0m\n\u001b[1;32m---> 61\u001b[1;33m     \u001b[0mrun_model\u001b[0m\u001b[1;33m(\u001b[0m\u001b[0msess\u001b[0m\u001b[1;33m,\u001b[0m \u001b[0mtotal_loss\u001b[0m\u001b[1;33m,\u001b[0m \u001b[0mtrain_step\u001b[0m\u001b[1;33m,\u001b[0m \u001b[0mX_train\u001b[0m\u001b[1;33m,\u001b[0m \u001b[1;36m5e-3\u001b[0m\u001b[1;33m,\u001b[0m \u001b[1;36m20000\u001b[0m\u001b[1;33m,\u001b[0m\u001b[1;36m2000\u001b[0m\u001b[1;33m,\u001b[0m \u001b[1;32mTrue\u001b[0m\u001b[1;33m)\u001b[0m\u001b[1;33m\u001b[0m\u001b[0m\n\u001b[0m",
      "\u001b[1;32m<ipython-input-37-aa183df0a1f5>\u001b[0m in \u001b[0;36mrun_model\u001b[1;34m(session, total_loss, train_step, X_t, lr, max_iter, print_every, plot_losses)\u001b[0m\n\u001b[0;32m     45\u001b[0m \u001b[1;33m\u001b[0m\u001b[0m\n\u001b[0;32m     46\u001b[0m         \u001b[0miter_cnt\u001b[0m \u001b[1;33m+=\u001b[0m \u001b[1;36m1\u001b[0m\u001b[1;33m\u001b[0m\u001b[0m\n\u001b[1;32m---> 47\u001b[1;33m         \u001b[0mmean_loss\u001b[0m \u001b[1;33m=\u001b[0m \u001b[0mnp\u001b[0m\u001b[1;33m.\u001b[0m\u001b[0mmean\u001b[0m\u001b[1;33m(\u001b[0m\u001b[0mlosses\u001b[0m\u001b[1;33m)\u001b[0m\u001b[1;33m\u001b[0m\u001b[0m\n\u001b[0m\u001b[0;32m     48\u001b[0m         \u001b[1;32mif\u001b[0m \u001b[0mi\u001b[0m \u001b[1;33m!=\u001b[0m \u001b[1;36m0\u001b[0m \u001b[1;32mand\u001b[0m \u001b[0mi\u001b[0m \u001b[1;33m%\u001b[0m \u001b[1;33m(\u001b[0m\u001b[1;36m10\u001b[0m\u001b[1;33m*\u001b[0m\u001b[0mprint_every\u001b[0m\u001b[1;33m)\u001b[0m \u001b[1;33m==\u001b[0m \u001b[1;36m0\u001b[0m\u001b[1;33m:\u001b[0m\u001b[1;33m\u001b[0m\u001b[0m\n\u001b[0;32m     49\u001b[0m             \u001b[0mlr\u001b[0m \u001b[1;33m/=\u001b[0m \u001b[1;36m10\u001b[0m\u001b[1;33m\u001b[0m\u001b[0m\n",
      "\u001b[1;32m/usr/local/lib/python3.5/dist-packages/numpy/core/fromnumeric.py\u001b[0m in \u001b[0;36mmean\u001b[1;34m(a, axis, dtype, out, keepdims)\u001b[0m\n\u001b[0;32m   2918\u001b[0m \u001b[1;33m\u001b[0m\u001b[0m\n\u001b[0;32m   2919\u001b[0m     return _methods._mean(a, axis=axis, dtype=dtype,\n\u001b[1;32m-> 2920\u001b[1;33m                           out=out, **kwargs)\n\u001b[0m\u001b[0;32m   2921\u001b[0m \u001b[1;33m\u001b[0m\u001b[0m\n\u001b[0;32m   2922\u001b[0m \u001b[1;33m\u001b[0m\u001b[0m\n",
      "\u001b[1;32m/usr/local/lib/python3.5/dist-packages/numpy/core/_methods.py\u001b[0m in \u001b[0;36m_mean\u001b[1;34m(a, axis, dtype, out, keepdims)\u001b[0m\n\u001b[0;32m     57\u001b[0m \u001b[1;33m\u001b[0m\u001b[0m\n\u001b[0;32m     58\u001b[0m \u001b[1;32mdef\u001b[0m \u001b[0m_mean\u001b[0m\u001b[1;33m(\u001b[0m\u001b[0ma\u001b[0m\u001b[1;33m,\u001b[0m \u001b[0maxis\u001b[0m\u001b[1;33m=\u001b[0m\u001b[1;32mNone\u001b[0m\u001b[1;33m,\u001b[0m \u001b[0mdtype\u001b[0m\u001b[1;33m=\u001b[0m\u001b[1;32mNone\u001b[0m\u001b[1;33m,\u001b[0m \u001b[0mout\u001b[0m\u001b[1;33m=\u001b[0m\u001b[1;32mNone\u001b[0m\u001b[1;33m,\u001b[0m \u001b[0mkeepdims\u001b[0m\u001b[1;33m=\u001b[0m\u001b[1;32mFalse\u001b[0m\u001b[1;33m)\u001b[0m\u001b[1;33m:\u001b[0m\u001b[1;33m\u001b[0m\u001b[0m\n\u001b[1;32m---> 59\u001b[1;33m     \u001b[0marr\u001b[0m \u001b[1;33m=\u001b[0m \u001b[0masanyarray\u001b[0m\u001b[1;33m(\u001b[0m\u001b[0ma\u001b[0m\u001b[1;33m)\u001b[0m\u001b[1;33m\u001b[0m\u001b[0m\n\u001b[0m\u001b[0;32m     60\u001b[0m \u001b[1;33m\u001b[0m\u001b[0m\n\u001b[0;32m     61\u001b[0m     \u001b[0mis_float16_result\u001b[0m \u001b[1;33m=\u001b[0m \u001b[1;32mFalse\u001b[0m\u001b[1;33m\u001b[0m\u001b[0m\n",
      "\u001b[1;32m/usr/local/lib/python3.5/dist-packages/numpy/core/numeric.py\u001b[0m in \u001b[0;36masanyarray\u001b[1;34m(a, dtype, order)\u001b[0m\n\u001b[0;32m    551\u001b[0m \u001b[1;33m\u001b[0m\u001b[0m\n\u001b[0;32m    552\u001b[0m     \"\"\"\n\u001b[1;32m--> 553\u001b[1;33m     \u001b[1;32mreturn\u001b[0m \u001b[0marray\u001b[0m\u001b[1;33m(\u001b[0m\u001b[0ma\u001b[0m\u001b[1;33m,\u001b[0m \u001b[0mdtype\u001b[0m\u001b[1;33m,\u001b[0m \u001b[0mcopy\u001b[0m\u001b[1;33m=\u001b[0m\u001b[1;32mFalse\u001b[0m\u001b[1;33m,\u001b[0m \u001b[0morder\u001b[0m\u001b[1;33m=\u001b[0m\u001b[0morder\u001b[0m\u001b[1;33m,\u001b[0m \u001b[0msubok\u001b[0m\u001b[1;33m=\u001b[0m\u001b[1;32mTrue\u001b[0m\u001b[1;33m)\u001b[0m\u001b[1;33m\u001b[0m\u001b[0m\n\u001b[0m\u001b[0;32m    554\u001b[0m \u001b[1;33m\u001b[0m\u001b[0m\n\u001b[0;32m    555\u001b[0m \u001b[1;33m\u001b[0m\u001b[0m\n",
      "\u001b[1;31mKeyboardInterrupt\u001b[0m: "
     ]
    }
   ],
   "source": [
    "def run_model(session, total_loss, train_step, X_t, lr, \n",
    "              max_iter=2000, print_every=100,\n",
    "              plot_losses=True):\n",
    "\n",
    "    ind = np.random.randint(0,X_t.shape[0],size=1)   \n",
    "    X_train = X_t[ind,:,:]\n",
    "    \n",
    "    iter_cnt = 0\n",
    "    fig = 1\n",
    "    losses = []\n",
    "    lengthes = []\n",
    "    for i in range(max_iter):\n",
    "      \n",
    "        feed_dict = {X: X_train,\n",
    "                     Images: X_train}\n",
    "\n",
    "        loss = session.run(total_loss, feed_dict=feed_dict)\n",
    "        session.run(train_step, {X: X_train,\n",
    "                                 Images: X_train,\n",
    "                                 learning_rate: lr})\n",
    "\n",
    "        length = session.run(length_penalty, feed_dict)\n",
    "\n",
    "        losses.append(loss)\n",
    "        lengthes.append(length)\n",
    "\n",
    "        # print every now and then\n",
    "        if (iter_cnt % print_every) == 0:\n",
    "\n",
    "            print(\"Iteration {0}: with minibatch training loss = {1:.3g} length = {2:.3g}\"\\\n",
    "                  .format(iter_cnt,loss, length))\n",
    "\n",
    "            ### show img\n",
    "\n",
    "            xpo, ypo = session.run([x_points, y_points], feed_dict)\n",
    "            sig = session.run(sigma, feed_dict)\n",
    "            xc = session.run(x_coeff, feed_dict)\n",
    "            kimg = session.run(kernel_imgs, feed_dict) \n",
    "            print(xc)\n",
    "\n",
    "            print(\"Sigma2: {0:.5g}\"\n",
    "                  .format(sig[0]**2))\n",
    "            show_img(fig, X_train, kimg, xpo,ypo)\n",
    "            fig += 1\n",
    "            plt.show()\n",
    "\n",
    "        iter_cnt += 1\n",
    "        mean_loss = np.mean(losses)\n",
    "        if i != 0 and i % (10*print_every) == 0:\n",
    "            lr /= 10\n",
    "            print(\"Learning Rate: {0:.3g}\".format(lr))\n",
    "        if i != 0 and i % (10*print_every) == 0 and plot_losses:\n",
    "            plt.plot(losses)\n",
    "            plt.grid(True)\n",
    "            plt.show()\n",
    "    return mean_loss\n",
    "\n",
    "sess = tf.Session()\n",
    "with tf.device(\"/gpu:0\"):\n",
    "    sess.run(tf.global_variables_initializer())\n",
    "    print('Training')\n",
    "    run_model(sess, total_loss, train_step, X_train, 5e-3, 20000,2000, True)"
   ]
  },
  {
   "cell_type": "code",
   "execution_count": 25,
   "metadata": {
    "collapsed": false
   },
   "outputs": [
    {
     "data": {
      "text/plain": [
       "(20, 10)"
      ]
     },
     "execution_count": 25,
     "metadata": {},
     "output_type": "execute_result"
    }
   ],
   "source": [
    "bs(np.linspace(0,1,20),df=10, degree=3, include_intercept=True).shape"
   ]
  }
 ],
 "metadata": {
  "kernelspec": {
   "display_name": "Python 3",
   "language": "python",
   "name": "python3"
  },
  "language_info": {
   "codemirror_mode": {
    "name": "ipython",
    "version": 3
   },
   "file_extension": ".py",
   "mimetype": "text/x-python",
   "name": "python",
   "nbconvert_exporter": "python",
   "pygments_lexer": "ipython3",
   "version": "3.5.2"
  }
 },
 "nbformat": 4,
 "nbformat_minor": 0
}
