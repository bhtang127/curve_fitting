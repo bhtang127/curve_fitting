{
 "cells": [
  {
   "cell_type": "code",
   "execution_count": 1,
   "metadata": {},
   "outputs": [],
   "source": [
    "import numpy as np\n",
    "import tensorflow as tf\n",
    "from tensorflow import keras\n",
    "from tensorflow.keras import layers\n",
    "import matplotlib.pyplot as plt\n",
    "from patsy import bs\n",
    "import cv2\n",
    "%matplotlib inline"
   ]
  },
  {
   "cell_type": "code",
   "execution_count": 7,
   "metadata": {},
   "outputs": [
    {
     "data": {
      "image/png": "[encoded data removed]",
      "text/plain": [
       "<Figure size 432x288 with 3 Axes>"
      ]
     },
     "metadata": {
      "needs_background": "light"
     },
     "output_type": "display_data"
    }
   ],
   "source": [
    "letter_data = np.load(\"letter_data.npy\")\n",
    "mask = range(7000, 10000)\n",
    "letter_val = letter_data[mask]\n",
    "mask = range(7000)\n",
    "letter_train = letter_data[mask]\n",
    "\n",
    "IMG_SIZE = 32\n",
    "IMG_SHAPE = (IMG_SIZE,IMG_SIZE,1)\n",
    "def format_images(images):\n",
    "    res = np.zeros([images.shape[0], IMG_SIZE, IMG_SIZE])\n",
    "    for i in range(images.shape[0]):\n",
    "        res[i,:,:] = cv2.resize(images[i,:,:], (IMG_SIZE, IMG_SIZE))\n",
    "        res[i,:,:] /= np.sum(res[i,:,:])\n",
    "    res = np.reshape(res,[-1,IMG_SIZE,IMG_SIZE,1])\n",
    "    return np.asarray(res,dtype=np.float32)\n",
    "\n",
    "show = format_images(letter_data[:10,:,:])\n",
    "plt.figure(1)\n",
    "plt.subplot(131)\n",
    "plt.imshow(show[1,:,:,0], cmap='gray')\n",
    "plt.subplot(132)\n",
    "plt.imshow(show[5,:,:,0], cmap='gray')\n",
    "plt.subplot(133)\n",
    "plt.imshow(show[7,:,:,0], cmap='gray')\n",
    "plt.show()"
   ]
  },
  {
   "cell_type": "code",
   "execution_count": 3,
   "metadata": {},
   "outputs": [],
   "source": [
    "def reconstruction_xy(loc, moment, section=3, num_points=30):\n",
    "    \"\"\"Using position and moments to reconstruct points on curve\"\"\"\n",
    "    M = tf.constant([[1,0,0,0],[1,1,1,1],[0,1,0,0],[0,1,2,3]], dtype=tf.float32)\n",
    "    M = tf.transpose(tf.linalg.inv(M))\n",
    "    t_value = np.linspace(0,1, num = section+1)\n",
    "    tpoints = np.linspace(0, 1, num=num_points)\n",
    "    basis = np.vstack([tpoints**0, tpoints**1, tpoints**2, tpoints**3])\n",
    "    v_basis = np.vstack([0*tpoints**0, 1*tpoints**0, 2*tpoints, 3*tpoints**2])\n",
    "    basis = tf.constant(basis, dtype=tf.float32)\n",
    "    v_basis = tf.constant(v_basis, dtype=tf.float32)\n",
    "    \n",
    "    i = 0\n",
    "    x_i = tf.gather(loc, [i,i+1], axis=1)\n",
    "    m_i = tf.gather(moment, [i,i+1], axis=1)\n",
    "    xm_i = tf.concat([x_i, m_i], 1)\n",
    "    coeff = tf.matmul(xm_i, M)\n",
    "    curve = tf.matmul(coeff, basis)\n",
    "    deriv = tf.matmul(coeff, v_basis)\n",
    "    ### consequent intervals\n",
    "    for i in range(1, section+1):\n",
    "        x_i = tf.gather(loc, [i,i+1], axis=1)\n",
    "        m_i = tf.gather(moment, [i,i+1], axis=1)\n",
    "        xm_i = tf.concat([x_i, m_i], 1)\n",
    "        coeff_i = tf.matmul(xm_i, M)\n",
    "        curve_i = tf.matmul(coeff_i, basis)\n",
    "        deriv_i = tf.matmul(coeff_i, v_basis)\n",
    "        coeff = tf.concat([coeff, coeff_i], 1)\n",
    "        curve = tf.concat([curve, curve_i], 1)\n",
    "        deriv = tf.concat([deriv, curve_i], 1)\n",
    "    return curve, deriv, coeff\n",
    "\n",
    "def reconstruction(loc, moment, section=3, num_points=30):\n",
    "    x_points, dx, x_coeff = reconstruction_xy(loc[:,:,0], moment[:,:,0], section, num_points)\n",
    "    y_points, dy, y_coeff = reconstruction_xy(loc[:,:,1], moment[:,:,1], section, num_points)\n",
    "    velocity = tf.sqrt(dx**2 + dy**2)\n",
    "    return x_points, y_points, velocity, x_coeff, y_coeff\n",
    "\n",
    "def kernel_image(x_points, y_points, velocity, sig2):\n",
    "    index_tensor = np.zeros([IMG_SIZE,IMG_SIZE,2], dtype=np.float32)\n",
    "    for i in range(IMG_SIZE):\n",
    "        for j in range(IMG_SIZE):\n",
    "            index_tensor[i,j,:] = [i/(IMG_SIZE-1.0), j/(IMG_SIZE-1.0)]\n",
    "    locations = tf.constant(index_tensor)\n",
    "    points = tf.stack([x_points, y_points], axis=2)\n",
    "    dist = tf.einsum(\"iju,ntu->nijt\", locations**2, tf.ones_like(points)) -\\\n",
    "           2 * tf.einsum(\"iju,ntu->nijt\", locations, points) +\\\n",
    "           tf.einsum(\"iju,ntu->nijt\", tf.ones_like(locations), points**2)\n",
    "    kernel = tf.exp(-0.5*tf.einsum(\"nijt,n->nijt\", dist, sig2**(-1)))\n",
    "    kernel = tf.einsum(\"nijt,nt->nijt\", kernel, velocity)\n",
    "    images = tf.reduce_sum(kernel, axis=3)\n",
    "    tweights = tf.reduce_sum(images, axis=[1,2])\n",
    "    images = tf.einsum(\"nij,n->nij\", images,tweights**(-1))\n",
    "    return images\n",
    "\n",
    "def loss(images, kernel_img):\n",
    "#     return tf.reduce_mean(-images*tf.math.log(kernel_img))\n",
    "    return tf.reduce_mean(\n",
    "            tf.reduce_sum(tf.math.abs(images-kernel_img), axis=[1,2])\n",
    "           )"
   ]
  },
  {
   "cell_type": "code",
   "execution_count": 4,
   "metadata": {},
   "outputs": [
    {
     "name": "stdout",
     "output_type": "stream",
     "text": [
      "1.0000001\n"
     ]
    },
    {
     "data": {
      "image/png": "[encoded data removed]",
      "text/plain": [
       "<Figure size 432x288 with 1 Axes>"
      ]
     },
     "metadata": {
      "needs_background": "light"
     },
     "output_type": "display_data"
    }
   ],
   "source": [
    "xpo = np.linspace(0,1,num=1000, dtype=np.float32)\n",
    "ypo = np.sin(16*xpo, dtype=np.float32)\n",
    "vx = np.ones_like(xpo)\n",
    "vy = 16*np.cos(16*xpo, dtype=np.float32)\n",
    "v = np.sqrt(vx**2+vy**2)\n",
    "sig2 = np.array([5e-4],dtype=np.float32)\n",
    "xx = kernel_image(tf.constant(np.reshape(xpo,[1,-1])), \n",
    "                  tf.constant(np.reshape(ypo,[1,-1])),\n",
    "                  tf.constant(np.reshape(v,[1,-1])),\n",
    "                  tf.constant(sig2))\n",
    "print(np.sum(xx.numpy()))\n",
    "plt.imshow(xx.numpy()[0,:,:], cmap=\"gray\")\n",
    "plt.show()"
   ]
  },
  {
   "cell_type": "code",
   "execution_count": 14,
   "metadata": {},
   "outputs": [],
   "source": [
    "def coding_net(num_filter=32, section=3, lam=1e-3, std=1):   \n",
    "    reg = keras.regularizers.l2(l=lam)\n",
    "    init = keras.initializers.RandomNormal(stddev=std)\n",
    "    init2 = keras.initializers.RandomNormal(stddev=std/10)\n",
    "    inputs = keras.Input(shape=IMG_SHAPE, name=\"input_image\")\n",
    "    # First Convolution layers\n",
    "    conv1 = layers.Conv2D(filters=num_filter,\n",
    "                          kernel_size=[5,5],\n",
    "                          padding=\"same\",\n",
    "                          kernel_regularizer=reg,\n",
    "                          activation=tf.nn.relu6)(inputs)\n",
    "    batch1 = layers.BatchNormalization()(conv1)\n",
    "    pool1 = layers.MaxPool2D(pool_size=[2,2],strides=2)(batch1)\n",
    "    dropout1 = layers.Dropout(0.9)(pool1)\n",
    "    # Second Convolution layers\n",
    "    conv2 = layers.Conv2D(filters=num_filter*2,\n",
    "                          kernel_size=[5,5],\n",
    "                          padding=\"same\",\n",
    "                          kernel_regularizer=reg,\n",
    "                          activation=tf.nn.relu6)(dropout1)\n",
    "    batch2 = layers.BatchNormalization()(conv2)\n",
    "    pool2 = layers.MaxPool2D(pool_size=[2,2],strides=2)(batch2)\n",
    "    dropout2 = layers.Dropout(0.7)(pool2)\n",
    "    # Second Convolution layers\n",
    "    conv3 = layers.Conv2D(filters=num_filter*4,\n",
    "                          kernel_size=[5,5],\n",
    "                          padding=\"same\",\n",
    "                          kernel_regularizer=reg,\n",
    "                          activation=tf.nn.relu6)(dropout2)\n",
    "    batch3 = layers.BatchNormalization()(conv3)\n",
    "    pool3 = layers.MaxPool2D(pool_size=[2,2],strides=2)(batch3)\n",
    "    dropout3 = layers.Dropout(0.5)(pool3)\n",
    "    \n",
    "    drop3_flat = tf.reshape(dropout3, [-1, int(IMG_SIZE*IMG_SIZE*num_filter/16)])\n",
    "    dense = layers.Dense(1024, activation=tf.nn.relu,\n",
    "                         kernel_regularizer=reg)(drop3_flat)\n",
    "    dropout4 = layers.Dropout(0.5)(dense)\n",
    "    \n",
    "    loc = layers.Dense((section+1)*2, \n",
    "                        activation = tf.nn.sigmoid,\n",
    "                        bias_initializer=init,\n",
    "                        kernel_regularizer=reg)(dropout4)\n",
    "    delta_moment = layers.Dense((section+1)*2, \n",
    "                                kernel_regularizer=reg)(dropout4)\n",
    "    sig2 = layers.Dense(1,activation=tf.nn.tanh,\n",
    "                        bias_initializer=init2,\n",
    "                        kernel_regularizer=reg)(dropout4)**2\n",
    "    outputs = tf.concat([loc,delta_moment,sig2],axis=1)\n",
    "    \n",
    "    return keras.Model(inputs=inputs,outputs=outputs,name=\"coding_net\")\n",
    "\n",
    "def get_moment(loc, delta_moment, section):\n",
    "    loc_xydiff = loc[:,1:(section+1),:] - loc[:,:section,:]\n",
    "    zeros = tf.reshape(tf.zeros_like(loc[:,0,:]),[-1,1,2])\n",
    "    m1 = tf.concat([zeros,loc_xydiff],axis=1)\n",
    "    m2 = tf.concat([loc_xydiff,zeros],axis=1)\n",
    "    moment = (m1+m2)/2.0\n",
    "    norm = tf.reduce_sum(moment**2, axis=[1,2])\n",
    "    return tf.einsum(\"nij,n->nij\",moment,norm**-1)\n",
    "\n",
    "def decode(outputs, section, num_points):\n",
    "    loc = tf.reshape(outputs[:,:((section+1)*2)], [-1, section+1, 2])\n",
    "    delta_moment = tf.reshape(outputs[:,((section+1)*2):-1], [-1, section+1, 2])\n",
    "    sig2 = tf.reshape(outputs[:,-1], (-1,))\n",
    "    moment = get_moment(loc, delta_moment, section)\n",
    "    xp,yp,v,xcoeff,ycoeff = reconstruction(loc,moment,section,num_points)\n",
    "    kernel_imgs = kernel_image(xp,yp,v,sig2=sig2)\n",
    "    return kernel_imgs,(xp,yp,v),(loc,moment,sig2),(xcoeff,ycoeff)\n",
    "\n",
    "def total_loss(section,nump,lambs):\n",
    "    def resloss(Images,outputs):\n",
    "        kernel_imgs,xyv,para,_= decode(outputs,section, nump)\n",
    "        x_points,y_points,v = xyv\n",
    "        loc,moment,sig2 = para\n",
    "        lam_sep = lambs[0]; lam_len = lambs[1]; lam_smooth = lambs[2]\n",
    "        totalp = section*nump\n",
    "        total_loss = loss(kernel_imgs,Images)\n",
    "        \n",
    "        xdiff = x_points[:,1:totalp] - x_points[:,:(totalp-1)]\n",
    "        ydiff = y_points[:,1:totalp] - y_points[:,:(totalp-1)]\n",
    "        loc_xdiff = loc[:,1:(section+1),0] - loc[:,:section,0]\n",
    "        loc_ydiff = loc[:,1:(section+1),1] - loc[:,:section,1]\n",
    "\n",
    "        eps = 1e-8\n",
    "        length_penalty = tf.reduce_mean(\n",
    "                            tf.reduce_sum(\n",
    "                                tf.sqrt(\n",
    "                                    tf.clip_by_value(xdiff**2 + ydiff**2, eps, 1)\n",
    "                                ),\n",
    "                                axis = 1\n",
    "                            )\n",
    "                         )\n",
    "        sep_penalty = -tf.reduce_mean(\n",
    "                            tf.reduce_sum(\n",
    "                                tf.sqrt(loc_xdiff**2 + loc_ydiff**2),\n",
    "                                axis = 1\n",
    "                            )\n",
    "                         )\n",
    "        smooth_penalty = tf.reduce_mean((\n",
    "                            moment[:,1:(section+1),:] - moment[:,:section,:]\n",
    "                         )**2)\n",
    "        \n",
    "        return total_loss +\\\n",
    "               lam_len*length_penalty +\\\n",
    "               lam_sep*sep_penalty + lam_smooth*smooth_penalty +\\\n",
    "               1e-2*tf.reduce_mean(sig2)\n",
    "    return resloss"
   ]
  },
  {
   "cell_type": "code",
   "execution_count": 9,
   "metadata": {},
   "outputs": [],
   "source": [
    "def show_img(fig, images, kimgs, loc, xpo, ypo):\n",
    "    plt.figure(fig)\n",
    "    for i in range(3):\n",
    "        plt.subplot(3,3,i+1)\n",
    "        plt.imshow(images[i,:,:], cmap='gray')\n",
    "    for i in range(3):\n",
    "        plt.subplot(3,3,i+4)\n",
    "        plt.imshow(kimgs[i,:,:], cmap='gray')\n",
    "    for i in range(3):\n",
    "        plt.subplot(3,3,i+7)\n",
    "        xi = xpo[i,:]; yi = ypo[i,:]; t = len(xi)\n",
    "        loci = loc[i,:,:]; n = loci.shape[0]\n",
    "        s = np.linspace(25, 5, num=n)\n",
    "        plt.plot(yi, -xi)\n",
    "        plt.scatter(loci[:,1], -loci[:,0], s=s)\n",
    "        plt.xlim(0,1); plt.ylim(-1,0)\n",
    "    return"
   ]
  },
  {
   "cell_type": "code",
   "execution_count": 17,
   "metadata": {
    "scrolled": true
   },
   "outputs": [
    {
     "name": "stdout",
     "output_type": "stream",
     "text": [
      "Model: \"coding_net\"\n",
      "__________________________________________________________________________________________________\n",
      "Layer (type)                    Output Shape         Param #     Connected to                     \n",
      "==================================================================================================\n",
      "input_image (InputLayer)        [(None, 32, 32, 1)]  0                                            \n",
      "__________________________________________________________________________________________________\n",
      "conv2d (Conv2D)                 (None, 32, 32, 32)   832         input_image[0][0]                \n",
      "__________________________________________________________________________________________________\n",
      "batch_normalization_v2 (BatchNo (None, 32, 32, 32)   128         conv2d[0][0]                     \n",
      "__________________________________________________________________________________________________\n",
      "max_pooling2d (MaxPooling2D)    (None, 16, 16, 32)   0           batch_normalization_v2[0][0]     \n",
      "__________________________________________________________________________________________________\n",
      "dropout (Dropout)               (None, 16, 16, 32)   0           max_pooling2d[0][0]              \n",
      "__________________________________________________________________________________________________\n",
      "conv2d_1 (Conv2D)               (None, 16, 16, 64)   51264       dropout[0][0]                    \n",
      "__________________________________________________________________________________________________\n",
      "batch_normalization_v2_1 (Batch (None, 16, 16, 64)   256         conv2d_1[0][0]                   \n",
      "__________________________________________________________________________________________________\n",
      "max_pooling2d_1 (MaxPooling2D)  (None, 8, 8, 64)     0           batch_normalization_v2_1[0][0]   \n",
      "__________________________________________________________________________________________________\n",
      "dropout_1 (Dropout)             (None, 8, 8, 64)     0           max_pooling2d_1[0][0]            \n",
      "__________________________________________________________________________________________________\n",
      "conv2d_2 (Conv2D)               (None, 8, 8, 128)    204928      dropout_1[0][0]                  \n",
      "__________________________________________________________________________________________________\n",
      "batch_normalization_v2_2 (Batch (None, 8, 8, 128)    512         conv2d_2[0][0]                   \n",
      "__________________________________________________________________________________________________\n",
      "max_pooling2d_2 (MaxPooling2D)  (None, 4, 4, 128)    0           batch_normalization_v2_2[0][0]   \n",
      "__________________________________________________________________________________________________\n",
      "dropout_2 (Dropout)             (None, 4, 4, 128)    0           max_pooling2d_2[0][0]            \n",
      "__________________________________________________________________________________________________\n",
      "Reshape_6 (TensorFlowOpLayer)   [(None, 2048)]       0           dropout_2[0][0]                  \n",
      "__________________________________________________________________________________________________\n",
      "dense (Dense)                   (None, 1024)         2098176     Reshape_6[0][0]                  \n",
      "__________________________________________________________________________________________________\n",
      "dropout_3 (Dropout)             (None, 1024)         0           dense[0][0]                      \n",
      "__________________________________________________________________________________________________\n",
      "dense_3 (Dense)                 (None, 1)            1025        dropout_3[0][0]                  \n",
      "__________________________________________________________________________________________________\n",
      "dense_1 (Dense)                 (None, 10)           10250       dropout_3[0][0]                  \n",
      "__________________________________________________________________________________________________\n",
      "dense_2 (Dense)                 (None, 10)           10250       dropout_3[0][0]                  \n",
      "__________________________________________________________________________________________________\n",
      "pow_6 (TensorFlowOpLayer)       [(None, 1)]          0           dense_3[0][0]                    \n",
      "__________________________________________________________________________________________________\n",
      "concat_6 (TensorFlowOpLayer)    [(None, 21)]         0           dense_1[0][0]                    \n",
      "                                                                 dense_2[0][0]                    \n",
      "                                                                 pow_6[0][0]                      \n",
      "==================================================================================================\n",
      "Total params: 2,377,621\n",
      "Trainable params: 2,377,173\n",
      "Non-trainable params: 448\n",
      "__________________________________________________________________________________________________\n",
      "tf.Tensor(1.6144516, shape=(), dtype=float32)\n",
      "tf.Tensor([0.7117027  0.292589   0.35641783 0.26372874 0.678439  ], shape=(5,), dtype=float32)\n"
     ]
    },
    {
     "data": {
      "image/png": "[encoded data removed]",
      "text/plain": [
       "<Figure size 432x288 with 9 Axes>"
      ]
     },
     "metadata": {
      "needs_background": "light"
     },
     "output_type": "display_data"
    }
   ],
   "source": [
    "tf.compat.v1.reset_default_graph()\n",
    "keras.backend.clear_session()\n",
    "try:\n",
    "    del model\n",
    "except:\n",
    "    pass\n",
    "\n",
    "num_filter = 32; std = 1\n",
    "section = 4; num_points = 30; lam = 1e-2\n",
    "lam_sep = 1e-4; lam_len = 1e-3; lam_smooth = 1e-3\n",
    "learning_rate = 1e-5\n",
    "model = coding_net(num_filter, section, lam, std=std)\n",
    "model_loss = total_loss(section,num_points,[lam_sep,lam_len,lam_smooth])\n",
    "optimizer = tf.optimizers.Adam(learning_rate)\n",
    "model.compile(optimizer=optimizer, loss=model_loss)\n",
    "model.summary()\n",
    "\n",
    "train = format_images(letter_data[:3,:,:])\n",
    "outputs = model.predict(train)\n",
    "kimg,xyv,para,_ = decode(outputs,section,num_points)\n",
    "xpo,ypo,v = xyv\n",
    "loc,_,_ = para\n",
    "print(model_loss(train[:,:,:,0], outputs))\n",
    "print(loc[0,:,0])\n",
    "show_img(1,train[:,:,:,0], kimg,loc,xpo,ypo)\n",
    "plt.show()"
   ]
  },
  {
   "cell_type": "code",
   "execution_count": 18,
   "metadata": {},
   "outputs": [
    {
     "name": "stdout",
     "output_type": "stream",
     "text": [
      "tf.Tensor(nan, shape=(), dtype=float32)\n",
      "tf.Tensor([1. 1. 1. 1. 1.], shape=(5,), dtype=float32)\n"
     ]
    },
    {
     "data": {
      "image/png": "[encoded data removed]",
      "text/plain": [
       "<Figure size 432x288 with 9 Axes>"
      ]
     },
     "metadata": {
      "needs_background": "light"
     },
     "output_type": "display_data"
    }
   ],
   "source": [
    "train = format_images(letter_data[:3,:,:])\n",
    "model.train_on_batch(train,train[:,:,:,0])\n",
    "outputs = model.predict(train)\n",
    "kimg,xyv,para,_ = decode(outputs,section,num_points)\n",
    "xpo,ypo,v = xyv\n",
    "loc,_,_ = para\n",
    "print(model_loss(train[:,:,:,0], outputs))\n",
    "print(loc[0,:,0])\n",
    "show_img(1,train[:,:,:,0], kimg,loc,xpo,ypo)\n",
    "plt.show()"
   ]
  },
  {
   "cell_type": "code",
   "execution_count": 58,
   "metadata": {},
   "outputs": [
    {
     "name": "stdout",
     "output_type": "stream",
     "text": [
      "Epoch 1/3\n",
      "2000/2000 - 5s - loss: nan\n",
      "Epoch 2/3\n",
      "2000/2000 - 4s - loss: nan\n",
      "Epoch 3/3\n",
      "2000/2000 - 4s - loss: nan\n"
     ]
    },
    {
     "data": {
      "text/plain": [
       "<tensorflow.python.keras.callbacks.History at 0x7fbc1d921ef0>"
      ]
     },
     "execution_count": 58,
     "metadata": {},
     "output_type": "execute_result"
    }
   ],
   "source": [
    "train = format_images(letter_train[:2000,:,:])\n",
    "model.fit(train,train[:,:,:,0],epochs=3,batch_size=32,verbose=2)"
   ]
  },
  {
   "cell_type": "code",
   "execution_count": 59,
   "metadata": {
    "scrolled": true
   },
   "outputs": [
    {
     "name": "stdout",
     "output_type": "stream",
     "text": [
      "Training\n",
      "Sigma2: nan  Sigma2: nan  Sigma2: nan\n",
      "tf.Tensor(\n",
      "[[[1. 1.]\n",
      "  [1. 1.]\n",
      "  [1. 1.]\n",
      "  [1. 1.]]\n",
      "\n",
      " [[1. 1.]\n",
      "  [1. 1.]\n",
      "  [1. 1.]\n",
      "  [1. 1.]]\n",
      "\n",
      " [[1. 1.]\n",
      "  [1. 1.]\n",
      "  [1. 1.]\n",
      "  [1. 1.]]], shape=(3, 4, 2), dtype=float32)\n"
     ]
    },
    {
     "name": "stderr",
     "output_type": "stream",
     "text": [
      "/home/bohao/.local/lib/python3.6/site-packages/matplotlib/image.py:395: UserWarning: Warning: converting a masked element to nan.\n",
      "  dv = (np.float64(self.norm.vmax) -\n",
      "/home/bohao/.local/lib/python3.6/site-packages/matplotlib/image.py:396: UserWarning: Warning: converting a masked element to nan.\n",
      "  np.float64(self.norm.vmin))\n",
      "/home/bohao/.local/lib/python3.6/site-packages/matplotlib/image.py:403: UserWarning: Warning: converting a masked element to nan.\n",
      "  a_min = np.float64(newmin)\n",
      "/home/bohao/.local/lib/python3.6/site-packages/matplotlib/image.py:408: UserWarning: Warning: converting a masked element to nan.\n",
      "  a_max = np.float64(newmax)\n",
      "/home/bohao/.local/lib/python3.6/site-packages/matplotlib/colors.py:918: UserWarning: Warning: converting a masked element to nan.\n",
      "  dtype = np.min_scalar_type(value)\n",
      "/home/bohao/.local/lib/python3.6/site-packages/numpy/ma/core.py:713: UserWarning: Warning: converting a masked element to nan.\n",
      "  data = np.array(a, copy=False, subok=subok)\n"
     ]
    },
    {
     "data": {
      "image/png": "[encoded data removed]",
      "text/plain": [
       "<Figure size 432x288 with 9 Axes>"
      ]
     },
     "metadata": {
      "needs_background": "light"
     },
     "output_type": "display_data"
    },
    {
     "name": "stdout",
     "output_type": "stream",
     "text": [
      "Sigma2: nan  Sigma2: nan  Sigma2: nan\n",
      "tf.Tensor(\n",
      "[[[1. 1.]\n",
      "  [1. 1.]\n",
      "  [1. 1.]\n",
      "  [1. 1.]]\n",
      "\n",
      " [[1. 1.]\n",
      "  [1. 1.]\n",
      "  [1. 1.]\n",
      "  [1. 1.]]\n",
      "\n",
      " [[1. 1.]\n",
      "  [1. 1.]\n",
      "  [1. 1.]\n",
      "  [1. 1.]]], shape=(3, 4, 2), dtype=float32)\n"
     ]
    },
    {
     "ename": "KeyboardInterrupt",
     "evalue": "",
     "output_type": "error",
     "traceback": [
      "\u001b[0;31m---------------------------------------------------------------------------\u001b[0m",
      "\u001b[0;31mKeyboardInterrupt\u001b[0m                         Traceback (most recent call last)",
      "\u001b[0;32m<ipython-input-59-23dbc87c1bf9>\u001b[0m in \u001b[0;36m<module>\u001b[0;34m\u001b[0m\n\u001b[1;32m     38\u001b[0m \u001b[0;32mwith\u001b[0m \u001b[0mtf\u001b[0m\u001b[0;34m.\u001b[0m\u001b[0mdevice\u001b[0m\u001b[0;34m(\u001b[0m\u001b[0;34m\"/gpu:0\"\u001b[0m\u001b[0;34m)\u001b[0m\u001b[0;34m:\u001b[0m\u001b[0;34m\u001b[0m\u001b[0;34m\u001b[0m\u001b[0m\n\u001b[1;32m     39\u001b[0m     \u001b[0mprint\u001b[0m\u001b[0;34m(\u001b[0m\u001b[0;34m'Training'\u001b[0m\u001b[0;34m)\u001b[0m\u001b[0;34m\u001b[0m\u001b[0;34m\u001b[0m\u001b[0m\n\u001b[0;32m---> 40\u001b[0;31m     \u001b[0mrun_model\u001b[0m\u001b[0;34m(\u001b[0m\u001b[0mmodel\u001b[0m\u001b[0;34m,\u001b[0m\u001b[0mletter_train\u001b[0m\u001b[0;34m,\u001b[0m\u001b[0mletter_val\u001b[0m\u001b[0;34m,\u001b[0m\u001b[0;36m5\u001b[0m\u001b[0;34m,\u001b[0m\u001b[0;36m32\u001b[0m\u001b[0;34m,\u001b[0m\u001b[0;36m100\u001b[0m\u001b[0;34m)\u001b[0m\u001b[0;34m\u001b[0m\u001b[0;34m\u001b[0m\u001b[0m\n\u001b[0m",
      "\u001b[0;32m<ipython-input-59-23dbc87c1bf9>\u001b[0m in \u001b[0;36mrun_model\u001b[0;34m(model, Xd, Xval, epochs, batch_size, print_every)\u001b[0m\n\u001b[1;32m     31\u001b[0m                 \u001b[0mshow_img\u001b[0m\u001b[0;34m(\u001b[0m\u001b[0mfig\u001b[0m\u001b[0;34m,\u001b[0m \u001b[0mimg_val\u001b[0m\u001b[0;34m[\u001b[0m\u001b[0;34m:\u001b[0m\u001b[0;34m,\u001b[0m\u001b[0;34m:\u001b[0m\u001b[0;34m,\u001b[0m\u001b[0;34m:\u001b[0m\u001b[0;34m,\u001b[0m\u001b[0;36m0\u001b[0m\u001b[0;34m]\u001b[0m\u001b[0;34m,\u001b[0m \u001b[0mkimg\u001b[0m\u001b[0;34m,\u001b[0m\u001b[0mloc\u001b[0m\u001b[0;34m,\u001b[0m\u001b[0mxpo\u001b[0m\u001b[0;34m,\u001b[0m\u001b[0mypo\u001b[0m\u001b[0;34m)\u001b[0m\u001b[0;34m\u001b[0m\u001b[0;34m\u001b[0m\u001b[0m\n\u001b[1;32m     32\u001b[0m                 \u001b[0mfig\u001b[0m \u001b[0;34m+=\u001b[0m \u001b[0;36m1\u001b[0m\u001b[0;34m\u001b[0m\u001b[0;34m\u001b[0m\u001b[0m\n\u001b[0;32m---> 33\u001b[0;31m                 \u001b[0mplt\u001b[0m\u001b[0;34m.\u001b[0m\u001b[0mshow\u001b[0m\u001b[0;34m(\u001b[0m\u001b[0;34m)\u001b[0m\u001b[0;34m\u001b[0m\u001b[0;34m\u001b[0m\u001b[0m\n\u001b[0m\u001b[1;32m     34\u001b[0m \u001b[0;34m\u001b[0m\u001b[0m\n\u001b[1;32m     35\u001b[0m             \u001b[0miter_cnt\u001b[0m \u001b[0;34m+=\u001b[0m \u001b[0;36m1\u001b[0m\u001b[0;34m\u001b[0m\u001b[0;34m\u001b[0m\u001b[0m\n",
      "\u001b[0;32m~/.local/lib/python3.6/site-packages/matplotlib/pyplot.py\u001b[0m in \u001b[0;36mshow\u001b[0;34m(*args, **kw)\u001b[0m\n\u001b[1;32m    252\u001b[0m     \"\"\"\n\u001b[1;32m    253\u001b[0m     \u001b[0;32mglobal\u001b[0m \u001b[0m_show\u001b[0m\u001b[0;34m\u001b[0m\u001b[0;34m\u001b[0m\u001b[0m\n\u001b[0;32m--> 254\u001b[0;31m     \u001b[0;32mreturn\u001b[0m \u001b[0m_show\u001b[0m\u001b[0;34m(\u001b[0m\u001b[0;34m*\u001b[0m\u001b[0margs\u001b[0m\u001b[0;34m,\u001b[0m \u001b[0;34m**\u001b[0m\u001b[0mkw\u001b[0m\u001b[0;34m)\u001b[0m\u001b[0;34m\u001b[0m\u001b[0;34m\u001b[0m\u001b[0m\n\u001b[0m\u001b[1;32m    255\u001b[0m \u001b[0;34m\u001b[0m\u001b[0m\n\u001b[1;32m    256\u001b[0m \u001b[0;34m\u001b[0m\u001b[0m\n",
      "\u001b[0;32m~/.local/lib/python3.6/site-packages/ipykernel/pylab/backend_inline.py\u001b[0m in \u001b[0;36mshow\u001b[0;34m(close, block)\u001b[0m\n\u001b[1;32m     37\u001b[0m             display(\n\u001b[1;32m     38\u001b[0m                 \u001b[0mfigure_manager\u001b[0m\u001b[0;34m.\u001b[0m\u001b[0mcanvas\u001b[0m\u001b[0;34m.\u001b[0m\u001b[0mfigure\u001b[0m\u001b[0;34m,\u001b[0m\u001b[0;34m\u001b[0m\u001b[0;34m\u001b[0m\u001b[0m\n\u001b[0;32m---> 39\u001b[0;31m                 \u001b[0mmetadata\u001b[0m\u001b[0;34m=\u001b[0m\u001b[0m_fetch_figure_metadata\u001b[0m\u001b[0;34m(\u001b[0m\u001b[0mfigure_manager\u001b[0m\u001b[0;34m.\u001b[0m\u001b[0mcanvas\u001b[0m\u001b[0;34m.\u001b[0m\u001b[0mfigure\u001b[0m\u001b[0;34m)\u001b[0m\u001b[0;34m\u001b[0m\u001b[0;34m\u001b[0m\u001b[0m\n\u001b[0m\u001b[1;32m     40\u001b[0m             )\n\u001b[1;32m     41\u001b[0m     \u001b[0;32mfinally\u001b[0m\u001b[0;34m:\u001b[0m\u001b[0;34m\u001b[0m\u001b[0;34m\u001b[0m\u001b[0m\n",
      "\u001b[0;32m~/.local/lib/python3.6/site-packages/IPython/core/display.py\u001b[0m in \u001b[0;36mdisplay\u001b[0;34m(include, exclude, metadata, transient, display_id, *objs, **kwargs)\u001b[0m\n\u001b[1;32m    302\u001b[0m             \u001b[0mpublish_display_data\u001b[0m\u001b[0;34m(\u001b[0m\u001b[0mdata\u001b[0m\u001b[0;34m=\u001b[0m\u001b[0mobj\u001b[0m\u001b[0;34m,\u001b[0m \u001b[0mmetadata\u001b[0m\u001b[0;34m=\u001b[0m\u001b[0mmetadata\u001b[0m\u001b[0;34m,\u001b[0m \u001b[0;34m**\u001b[0m\u001b[0mkwargs\u001b[0m\u001b[0;34m)\u001b[0m\u001b[0;34m\u001b[0m\u001b[0;34m\u001b[0m\u001b[0m\n\u001b[1;32m    303\u001b[0m         \u001b[0;32melse\u001b[0m\u001b[0;34m:\u001b[0m\u001b[0;34m\u001b[0m\u001b[0;34m\u001b[0m\u001b[0m\n\u001b[0;32m--> 304\u001b[0;31m             \u001b[0mformat_dict\u001b[0m\u001b[0;34m,\u001b[0m \u001b[0mmd_dict\u001b[0m \u001b[0;34m=\u001b[0m \u001b[0mformat\u001b[0m\u001b[0;34m(\u001b[0m\u001b[0mobj\u001b[0m\u001b[0;34m,\u001b[0m \u001b[0minclude\u001b[0m\u001b[0;34m=\u001b[0m\u001b[0minclude\u001b[0m\u001b[0;34m,\u001b[0m \u001b[0mexclude\u001b[0m\u001b[0;34m=\u001b[0m\u001b[0mexclude\u001b[0m\u001b[0;34m)\u001b[0m\u001b[0;34m\u001b[0m\u001b[0;34m\u001b[0m\u001b[0m\n\u001b[0m\u001b[1;32m    305\u001b[0m             \u001b[0;32mif\u001b[0m \u001b[0;32mnot\u001b[0m \u001b[0mformat_dict\u001b[0m\u001b[0;34m:\u001b[0m\u001b[0;34m\u001b[0m\u001b[0;34m\u001b[0m\u001b[0m\n\u001b[1;32m    306\u001b[0m                 \u001b[0;31m# nothing to display (e.g. _ipython_display_ took over)\u001b[0m\u001b[0;34m\u001b[0m\u001b[0;34m\u001b[0m\u001b[0;34m\u001b[0m\u001b[0m\n",
      "\u001b[0;32m~/.local/lib/python3.6/site-packages/IPython/core/formatters.py\u001b[0m in \u001b[0;36mformat\u001b[0;34m(self, obj, include, exclude)\u001b[0m\n\u001b[1;32m    178\u001b[0m             \u001b[0mmd\u001b[0m \u001b[0;34m=\u001b[0m \u001b[0;32mNone\u001b[0m\u001b[0;34m\u001b[0m\u001b[0;34m\u001b[0m\u001b[0m\n\u001b[1;32m    179\u001b[0m             \u001b[0;32mtry\u001b[0m\u001b[0;34m:\u001b[0m\u001b[0;34m\u001b[0m\u001b[0;34m\u001b[0m\u001b[0m\n\u001b[0;32m--> 180\u001b[0;31m                 \u001b[0mdata\u001b[0m \u001b[0;34m=\u001b[0m \u001b[0mformatter\u001b[0m\u001b[0;34m(\u001b[0m\u001b[0mobj\u001b[0m\u001b[0;34m)\u001b[0m\u001b[0;34m\u001b[0m\u001b[0;34m\u001b[0m\u001b[0m\n\u001b[0m\u001b[1;32m    181\u001b[0m             \u001b[0;32mexcept\u001b[0m\u001b[0;34m:\u001b[0m\u001b[0;34m\u001b[0m\u001b[0;34m\u001b[0m\u001b[0m\n\u001b[1;32m    182\u001b[0m                 \u001b[0;31m# FIXME: log the exception\u001b[0m\u001b[0;34m\u001b[0m\u001b[0;34m\u001b[0m\u001b[0;34m\u001b[0m\u001b[0m\n",
      "\u001b[0;32m</home/bohao/.local/lib/python3.6/site-packages/decorator.py:decorator-gen-9>\u001b[0m in \u001b[0;36m__call__\u001b[0;34m(self, obj)\u001b[0m\n",
      "\u001b[0;32m~/.local/lib/python3.6/site-packages/IPython/core/formatters.py\u001b[0m in \u001b[0;36mcatch_format_error\u001b[0;34m(method, self, *args, **kwargs)\u001b[0m\n\u001b[1;32m    222\u001b[0m     \u001b[0;34m\"\"\"show traceback on failed format call\"\"\"\u001b[0m\u001b[0;34m\u001b[0m\u001b[0;34m\u001b[0m\u001b[0m\n\u001b[1;32m    223\u001b[0m     \u001b[0;32mtry\u001b[0m\u001b[0;34m:\u001b[0m\u001b[0;34m\u001b[0m\u001b[0;34m\u001b[0m\u001b[0m\n\u001b[0;32m--> 224\u001b[0;31m         \u001b[0mr\u001b[0m \u001b[0;34m=\u001b[0m \u001b[0mmethod\u001b[0m\u001b[0;34m(\u001b[0m\u001b[0mself\u001b[0m\u001b[0;34m,\u001b[0m \u001b[0;34m*\u001b[0m\u001b[0margs\u001b[0m\u001b[0;34m,\u001b[0m \u001b[0;34m**\u001b[0m\u001b[0mkwargs\u001b[0m\u001b[0;34m)\u001b[0m\u001b[0;34m\u001b[0m\u001b[0;34m\u001b[0m\u001b[0m\n\u001b[0m\u001b[1;32m    225\u001b[0m     \u001b[0;32mexcept\u001b[0m \u001b[0mNotImplementedError\u001b[0m\u001b[0;34m:\u001b[0m\u001b[0;34m\u001b[0m\u001b[0;34m\u001b[0m\u001b[0m\n\u001b[1;32m    226\u001b[0m         \u001b[0;31m# don't warn on NotImplementedErrors\u001b[0m\u001b[0;34m\u001b[0m\u001b[0;34m\u001b[0m\u001b[0;34m\u001b[0m\u001b[0m\n",
      "\u001b[0;32m~/.local/lib/python3.6/site-packages/IPython/core/formatters.py\u001b[0m in \u001b[0;36m__call__\u001b[0;34m(self, obj)\u001b[0m\n\u001b[1;32m    339\u001b[0m                 \u001b[0;32mpass\u001b[0m\u001b[0;34m\u001b[0m\u001b[0;34m\u001b[0m\u001b[0m\n\u001b[1;32m    340\u001b[0m             \u001b[0;32melse\u001b[0m\u001b[0;34m:\u001b[0m\u001b[0;34m\u001b[0m\u001b[0;34m\u001b[0m\u001b[0m\n\u001b[0;32m--> 341\u001b[0;31m                 \u001b[0;32mreturn\u001b[0m \u001b[0mprinter\u001b[0m\u001b[0;34m(\u001b[0m\u001b[0mobj\u001b[0m\u001b[0;34m)\u001b[0m\u001b[0;34m\u001b[0m\u001b[0;34m\u001b[0m\u001b[0m\n\u001b[0m\u001b[1;32m    342\u001b[0m             \u001b[0;31m# Finally look for special method names\u001b[0m\u001b[0;34m\u001b[0m\u001b[0;34m\u001b[0m\u001b[0;34m\u001b[0m\u001b[0m\n\u001b[1;32m    343\u001b[0m             \u001b[0mmethod\u001b[0m \u001b[0;34m=\u001b[0m \u001b[0mget_real_method\u001b[0m\u001b[0;34m(\u001b[0m\u001b[0mobj\u001b[0m\u001b[0;34m,\u001b[0m \u001b[0mself\u001b[0m\u001b[0;34m.\u001b[0m\u001b[0mprint_method\u001b[0m\u001b[0;34m)\u001b[0m\u001b[0;34m\u001b[0m\u001b[0;34m\u001b[0m\u001b[0m\n",
      "\u001b[0;32m~/.local/lib/python3.6/site-packages/IPython/core/pylabtools.py\u001b[0m in \u001b[0;36m<lambda>\u001b[0;34m(fig)\u001b[0m\n\u001b[1;32m    242\u001b[0m \u001b[0;34m\u001b[0m\u001b[0m\n\u001b[1;32m    243\u001b[0m     \u001b[0;32mif\u001b[0m \u001b[0;34m'png'\u001b[0m \u001b[0;32min\u001b[0m \u001b[0mformats\u001b[0m\u001b[0;34m:\u001b[0m\u001b[0;34m\u001b[0m\u001b[0;34m\u001b[0m\u001b[0m\n\u001b[0;32m--> 244\u001b[0;31m         \u001b[0mpng_formatter\u001b[0m\u001b[0;34m.\u001b[0m\u001b[0mfor_type\u001b[0m\u001b[0;34m(\u001b[0m\u001b[0mFigure\u001b[0m\u001b[0;34m,\u001b[0m \u001b[0;32mlambda\u001b[0m \u001b[0mfig\u001b[0m\u001b[0;34m:\u001b[0m \u001b[0mprint_figure\u001b[0m\u001b[0;34m(\u001b[0m\u001b[0mfig\u001b[0m\u001b[0;34m,\u001b[0m \u001b[0;34m'png'\u001b[0m\u001b[0;34m,\u001b[0m \u001b[0;34m**\u001b[0m\u001b[0mkwargs\u001b[0m\u001b[0;34m)\u001b[0m\u001b[0;34m)\u001b[0m\u001b[0;34m\u001b[0m\u001b[0;34m\u001b[0m\u001b[0m\n\u001b[0m\u001b[1;32m    245\u001b[0m     \u001b[0;32mif\u001b[0m \u001b[0;34m'retina'\u001b[0m \u001b[0;32min\u001b[0m \u001b[0mformats\u001b[0m \u001b[0;32mor\u001b[0m \u001b[0;34m'png2x'\u001b[0m \u001b[0;32min\u001b[0m \u001b[0mformats\u001b[0m\u001b[0;34m:\u001b[0m\u001b[0;34m\u001b[0m\u001b[0;34m\u001b[0m\u001b[0m\n\u001b[1;32m    246\u001b[0m         \u001b[0mpng_formatter\u001b[0m\u001b[0;34m.\u001b[0m\u001b[0mfor_type\u001b[0m\u001b[0;34m(\u001b[0m\u001b[0mFigure\u001b[0m\u001b[0;34m,\u001b[0m \u001b[0;32mlambda\u001b[0m \u001b[0mfig\u001b[0m\u001b[0;34m:\u001b[0m \u001b[0mretina_figure\u001b[0m\u001b[0;34m(\u001b[0m\u001b[0mfig\u001b[0m\u001b[0;34m,\u001b[0m \u001b[0;34m**\u001b[0m\u001b[0mkwargs\u001b[0m\u001b[0;34m)\u001b[0m\u001b[0;34m)\u001b[0m\u001b[0;34m\u001b[0m\u001b[0;34m\u001b[0m\u001b[0m\n",
      "\u001b[0;32m~/.local/lib/python3.6/site-packages/IPython/core/pylabtools.py\u001b[0m in \u001b[0;36mprint_figure\u001b[0;34m(fig, fmt, bbox_inches, **kwargs)\u001b[0m\n\u001b[1;32m    126\u001b[0m \u001b[0;34m\u001b[0m\u001b[0m\n\u001b[1;32m    127\u001b[0m     \u001b[0mbytes_io\u001b[0m \u001b[0;34m=\u001b[0m \u001b[0mBytesIO\u001b[0m\u001b[0;34m(\u001b[0m\u001b[0;34m)\u001b[0m\u001b[0;34m\u001b[0m\u001b[0;34m\u001b[0m\u001b[0m\n\u001b[0;32m--> 128\u001b[0;31m     \u001b[0mfig\u001b[0m\u001b[0;34m.\u001b[0m\u001b[0mcanvas\u001b[0m\u001b[0;34m.\u001b[0m\u001b[0mprint_figure\u001b[0m\u001b[0;34m(\u001b[0m\u001b[0mbytes_io\u001b[0m\u001b[0;34m,\u001b[0m \u001b[0;34m**\u001b[0m\u001b[0mkw\u001b[0m\u001b[0;34m)\u001b[0m\u001b[0;34m\u001b[0m\u001b[0;34m\u001b[0m\u001b[0m\n\u001b[0m\u001b[1;32m    129\u001b[0m     \u001b[0mdata\u001b[0m \u001b[0;34m=\u001b[0m \u001b[0mbytes_io\u001b[0m\u001b[0;34m.\u001b[0m\u001b[0mgetvalue\u001b[0m\u001b[0;34m(\u001b[0m\u001b[0;34m)\u001b[0m\u001b[0;34m\u001b[0m\u001b[0;34m\u001b[0m\u001b[0m\n\u001b[1;32m    130\u001b[0m     \u001b[0;32mif\u001b[0m \u001b[0mfmt\u001b[0m \u001b[0;34m==\u001b[0m \u001b[0;34m'svg'\u001b[0m\u001b[0;34m:\u001b[0m\u001b[0;34m\u001b[0m\u001b[0;34m\u001b[0m\u001b[0m\n",
      "\u001b[0;32m~/.local/lib/python3.6/site-packages/matplotlib/backend_bases.py\u001b[0m in \u001b[0;36mprint_figure\u001b[0;34m(self, filename, dpi, facecolor, edgecolor, orientation, format, bbox_inches, **kwargs)\u001b[0m\n\u001b[1;32m   2047\u001b[0m                         \u001b[0morientation\u001b[0m\u001b[0;34m=\u001b[0m\u001b[0morientation\u001b[0m\u001b[0;34m,\u001b[0m\u001b[0;34m\u001b[0m\u001b[0;34m\u001b[0m\u001b[0m\n\u001b[1;32m   2048\u001b[0m                         \u001b[0mdryrun\u001b[0m\u001b[0;34m=\u001b[0m\u001b[0;32mTrue\u001b[0m\u001b[0;34m,\u001b[0m\u001b[0;34m\u001b[0m\u001b[0;34m\u001b[0m\u001b[0m\n\u001b[0;32m-> 2049\u001b[0;31m                         **kwargs)\n\u001b[0m\u001b[1;32m   2050\u001b[0m                     \u001b[0mrenderer\u001b[0m \u001b[0;34m=\u001b[0m \u001b[0mself\u001b[0m\u001b[0;34m.\u001b[0m\u001b[0mfigure\u001b[0m\u001b[0;34m.\u001b[0m\u001b[0m_cachedRenderer\u001b[0m\u001b[0;34m\u001b[0m\u001b[0;34m\u001b[0m\u001b[0m\n\u001b[1;32m   2051\u001b[0m                     \u001b[0mbbox_artists\u001b[0m \u001b[0;34m=\u001b[0m \u001b[0mkwargs\u001b[0m\u001b[0;34m.\u001b[0m\u001b[0mpop\u001b[0m\u001b[0;34m(\u001b[0m\u001b[0;34m\"bbox_extra_artists\"\u001b[0m\u001b[0;34m,\u001b[0m \u001b[0;32mNone\u001b[0m\u001b[0;34m)\u001b[0m\u001b[0;34m\u001b[0m\u001b[0;34m\u001b[0m\u001b[0m\n",
      "\u001b[0;32m~/.local/lib/python3.6/site-packages/matplotlib/backends/backend_agg.py\u001b[0m in \u001b[0;36mprint_png\u001b[0;34m(self, filename_or_obj, *args, **kwargs)\u001b[0m\n\u001b[1;32m    521\u001b[0m                 \u001b[0mcbook\u001b[0m\u001b[0;34m.\u001b[0m\u001b[0mopen_file_cm\u001b[0m\u001b[0;34m(\u001b[0m\u001b[0mfilename_or_obj\u001b[0m\u001b[0;34m,\u001b[0m \u001b[0;34m\"wb\"\u001b[0m\u001b[0;34m)\u001b[0m \u001b[0;32mas\u001b[0m \u001b[0mfh\u001b[0m\u001b[0;34m:\u001b[0m\u001b[0;34m\u001b[0m\u001b[0;34m\u001b[0m\u001b[0m\n\u001b[1;32m    522\u001b[0m             _png.write_png(renderer._renderer, fh,\n\u001b[0;32m--> 523\u001b[0;31m                             self.figure.dpi, metadata=metadata)\n\u001b[0m\u001b[1;32m    524\u001b[0m \u001b[0;34m\u001b[0m\u001b[0m\n\u001b[1;32m    525\u001b[0m     \u001b[0;32mdef\u001b[0m \u001b[0mprint_to_buffer\u001b[0m\u001b[0;34m(\u001b[0m\u001b[0mself\u001b[0m\u001b[0;34m)\u001b[0m\u001b[0;34m:\u001b[0m\u001b[0;34m\u001b[0m\u001b[0;34m\u001b[0m\u001b[0m\n",
      "\u001b[0;31mKeyboardInterrupt\u001b[0m: "
     ]
    }
   ],
   "source": [
    "def run_model(model, Xd, Xval,\n",
    "              epochs=5, batch_size=64, print_every=100):\n",
    "\n",
    "    train_indicies = np.arange(Xd.shape[0])\n",
    "    np.random.shuffle(train_indicies)    \n",
    "    \n",
    "    iter_cnt = 0\n",
    "    fig = 1\n",
    "    for e in range(epochs):\n",
    "        losses = []\n",
    "        val_losses = []\n",
    "        for i in range(int(np.ceil(Xd.shape[0]/batch_size))):\n",
    "            start_idx = (i*batch_size)%Xd.shape[0]\n",
    "            idx = train_indicies[start_idx:start_idx+batch_size]\n",
    "            Images = format_images(Xd[idx,:,:])\n",
    "            model.train_on_batch(Images,Images[:,:,:,0])\n",
    "\n",
    "            if (iter_cnt % print_every) == 0:\n",
    "                ### show img\n",
    "                val_ind = np.random.randint(0,3000,size=3)\n",
    "                \n",
    "                img_val = format_images(Xval[val_ind,:,:])\n",
    "                \n",
    "                outputs = model.predict(img_val)\n",
    "                kimg,xyv,para,_ = decode(outputs, section,num_points)\n",
    "                xpo,ypo,v = xyv\n",
    "                loc,moment,sig2 = para\n",
    "                print(\"Sigma2: {0:.5g}  Sigma2: {1:.5g}  Sigma2: {2:.5g}\"\\\n",
    "                      .format(sig2[0],sig2[1],sig2[2]))\n",
    "                print(loc)\n",
    "                show_img(fig, img_val[:,:,:,0], kimg,loc,xpo,ypo)\n",
    "                fig += 1\n",
    "                plt.show()\n",
    "                \n",
    "            iter_cnt += 1\n",
    "    return\n",
    "\n",
    "with tf.device(\"/gpu:0\"):\n",
    "    print('Training')\n",
    "    run_model(model,letter_train,letter_val,5,32,100)"
   ]
  },
  {
   "cell_type": "code",
   "execution_count": null,
   "metadata": {},
   "outputs": [],
   "source": [
    "def run_model(session, total_loss, train_step, Xd, Xval, lr, \n",
    "              epochs=5, batch_size=64, print_every=100,\n",
    "              plot_losses=True):\n",
    "\n",
    "    train_indicies = np.arange(Xd.shape[0])\n",
    "    np.random.shuffle(train_indicies)    \n",
    "    \n",
    "    iter_cnt = 0\n",
    "    fig = 1\n",
    "    for e in range(epochs):\n",
    "        losses = []\n",
    "        val_losses = []\n",
    "        for i in range(int(math.ceil(Xd.shape[0]/batch_size))):\n",
    "            start_idx = (i*batch_size)%Xd.shape[0]\n",
    "            idx = train_indicies[start_idx:start_idx+batch_size]\n",
    "            \n",
    "            feed_dict = {X: Xd[idx,:,:],\n",
    "                         Images: Xd[idx,:,:]}\n",
    "\n",
    "            actual_batch_size = Xd[idx,:,:].shape[0]\n",
    "            \n",
    "            loss = session.run(total_loss, feed_dict=feed_dict)\n",
    "            session.run(train_step, {X: Xd[idx,:,:],\n",
    "                                     Images: Xd[idx,:,:],\n",
    "                                     learning_rate: lr})\n",
    "            \n",
    "            ri = np.random.randint(0,5000,size=batch_size)\n",
    "            val_dict = {X: Xval[ri,:,:],\n",
    "                        Images: Xval[ri,:,:]}\n",
    "            val_loss = session.run(total_loss, val_dict)\n",
    "            \n",
    "            losses.append(loss*actual_batch_size)\n",
    "            val_losses.append(val_loss*actual_batch_size)\n",
    "            \n",
    "            # print every now and then\n",
    "            if (iter_cnt % print_every) == 0:\n",
    "                \n",
    "                print(\"Iteration {0}: with minibatch training loss = {1:.3g} val loss = {2:.3g}\"\\\n",
    "                      .format(iter_cnt,loss, val_loss))\n",
    "                \n",
    "                ### show img\n",
    "                val_ind = np.random.randint(0,5000,size=3)\n",
    "                \n",
    "                feed_dict_val = {X: Xval[val_ind,:,:],\n",
    "                                 Images: Xval[val_ind,:,:]}\n",
    "                \n",
    "                locations = session.run(loc, feed_dict_val)\n",
    "                xpo, ypo = session.run([x_points, y_points], feed_dict_val)\n",
    "                sig2_val = session.run(sig2, feed_dict_val)\n",
    "                kimgs_val = session.run(kernel_imgs, feed_dict_val) \n",
    "                \n",
    "                print(\"Sigma2: {0:.5g}  Sigma2: {1:.5g}  Sigma2: {2:.5g}\"\\\n",
    "                      .format(sig2_val[0],sig2_val[1],sig2_val[2]))\n",
    "                show_img(fig, Xval[val_ind,:,:], kimgs_val, locations, xpo,ypo)\n",
    "                fig += 1\n",
    "                plt.show()\n",
    "                \n",
    "            iter_cnt += 1\n",
    "        mean_loss = np.sum(losses)/Xd.shape[0]\n",
    "        print(\"Epoch {1}, Overall loss = {0:.3g}\"\\\n",
    "              .format(mean_loss,e+1))\n",
    "        if e % 10 == 0:\n",
    "            lr /= 10\n",
    "            print(\"Learning Rate: {0:.3g}\".format(lr))\n",
    "        if plot_losses:\n",
    "            plt.plot(losses,label='Train Loss')\n",
    "            plt.plot(val_losses, label='Validation Loss')\n",
    "            plt.grid(True)\n",
    "            plt.title('Epoch {} Loss'.format(e+1))\n",
    "            plt.xlabel('minibatch number')\n",
    "            plt.ylabel('minibatch loss')\n",
    "            plt.show()\n",
    "    return mean_loss\n",
    "\n",
    "sess = tf.Session()\n",
    "with tf.device(\"/gpu:0\"):\n",
    "    sess.run(tf.global_variables_initializer())\n",
    "    print('Training')\n",
    "    run_model(sess, total_loss, train_step, X_train,X_val, 1e-3, 10,64,200, True)"
   ]
  }
 ],
 "metadata": {
  "kernelspec": {
   "display_name": "Python 3",
   "language": "python",
   "name": "python3"
  },
  "language_info": {
   "codemirror_mode": {
    "name": "ipython",
    "version": 3
   },
   "file_extension": ".py",
   "mimetype": "text/x-python",
   "name": "python",
   "nbconvert_exporter": "python",
   "pygments_lexer": "ipython3",
   "version": "3.5.2"
  }
 },
 "nbformat": 4,
 "nbformat_minor": 2
}
